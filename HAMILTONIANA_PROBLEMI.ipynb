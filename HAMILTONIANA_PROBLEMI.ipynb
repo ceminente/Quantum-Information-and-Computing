{
 "cells": [
  {
   "cell_type": "code",
   "execution_count": null,
   "metadata": {
    "ExecuteTime": {
     "end_time": "2020-11-04T12:18:20.193024Z",
     "start_time": "2020-11-04T12:18:20.173077Z"
    }
   },
   "outputs": [],
   "source": [
    "import numpy as np\n",
    "import pandas as pd\n",
    "import matplotlib.pyplot as plt\n",
    "from tqdm import tqdm,tnrange\n",
    "from SD import stochastic_descent\n",
    "import numpy as np\n",
    "\n",
    "'''from quantum_state import i,hamiltonian_LA\n",
    "from quantum_state import i, evolution_from_protocol, spectral_time_evolution, compute_fidelity\n",
    "from qutip import basis, Bloch\n",
    "from gif import qutip_qstate\n",
    "from Qmodel import quantum_model\n",
    "'''\n",
    "\n",
    "import os\n",
    "import pandas as pd"
   ]
  },
  {
   "cell_type": "markdown",
   "metadata": {},
   "source": [
    "## STRANA SIMMETRIA CHE SPUTTANA DIM H, PRESENTE SIA IN KEPIZZA SIA NEL TUTORIAL BASE DI QUSPIN\n",
    "#### PROBLEMA kblock=0,pblock=1\n"
   ]
  },
  {
   "cell_type": "code",
   "execution_count": 68,
   "metadata": {
    "ExecuteTime": {
     "end_time": "2020-11-04T13:45:36.345250Z",
     "start_time": "2020-11-04T13:45:36.313338Z"
    }
   },
   "outputs": [
    {
     "name": "stdout",
     "output_type": "stream",
     "text": [
      "[[-1.5        -2.82842712  0.        ]\n",
      " [-2.82842712  0.5        -2.82842712]\n",
      " [ 0.         -2.82842712  0.5       ]]\n"
     ]
    }
   ],
   "source": [
    "from quspin.operators import hamiltonian\n",
    "from quspin.basis import spin_basis_1d\n",
    "def hamitonian(L=2 , J=1.0, hz = 1.0, hx_min=-4., hx_max =4., dh=2., n_step=1, symm =True ,**kwargs): # N is the number of time steps\n",
    "    #basis = spin_basis_1d(L=L,pauli=False)\n",
    "    fct_arg=[]\n",
    "    ones=[[-1,i] for i in range(L)]\n",
    "    z_field=[[-hz,i] for i in range(L)]\n",
    "\n",
    "    if L>1:\n",
    "        if symm is True:\n",
    "            basis = spin_basis_1d(L=L,pauli=False,kblock=0,pblock=1) # include symmetries (momentum and parity sectors)\n",
    "        else:\n",
    "            basis = spin_basis_1d(L=L,pauli=False) # w/o symmetries\n",
    "\n",
    "        zz_int =[[-J,i,(i+1)%L] for i in range(L)] # Has periodic boundary conditions\n",
    "        static = [[\"zz\",zz_int], [\"z\",z_field]]\n",
    "    else:\n",
    "        basis = spin_basis_1d(L=L,pauli=False) # w/o symmetries (momentum and parity sectors)\n",
    "        static = [[\"z\", z_field]]\n",
    "\n",
    "\n",
    "    h_set = compute_h_set(hx_min,hx_max,dh) # discrete set of possible h fields \n",
    "    hx_discrete = np.zeros(n_step, dtype=int) # hx_discrete are protocols specified as integers\n",
    "\n",
    "    fct = lambda time: h_set[hx_discrete[int(time)]] # time takes discrete values in our problem\n",
    "    fct_cont = lambda h: h # trick : when calling the time - will instead interpret it as a field value \n",
    "\n",
    "    dynamic_discrete = [[\"x\", ones, fct, fct_arg]]\n",
    "    dynamic_cont = [[\"x\", ones, fct_cont, fct_arg]]\n",
    "\n",
    "    kwargs = {'dtype':np.float64,'basis':basis,'check_symm':False,'check_herm':False,'check_pcon':False}\n",
    "\n",
    "    basis = basis\n",
    "    hamiltonian_discrete = hamiltonian(static, dynamic_discrete, **kwargs)\n",
    "    hamiltonian_cont = hamiltonian(static, dynamic_cont, **kwargs)\n",
    "    print(hamiltonian_cont(time = 4).todense())\n",
    "\n",
    "def ground_state(hx = 0.):\n",
    "    return hamiltonian_cont.eigsh(time=hx, k=1, which='SA')[1]\n",
    "\n",
    "def eigenvalue(hx = 0.):\n",
    "    \"\"\" Returns the spectrum of the Hamiltonian for a specific value of the transverse field \"\"\"\n",
    "    return hamiltonian_cont.eigvalsh(time=hx)\n",
    "\n",
    "def eigen_basis(hx = 0.):\n",
    "    \"\"\" Returns the eigenbasis of the Hamiltonian for a specific value of the transverse field \"\"\"\n",
    "    return hamiltonian_cont.eigh(time=hx)\n",
    "\n",
    "def compute_h_set(hmin, hmax, dh):\n",
    "    \"\"\" Computes the different values of hx given the maximum and minimum values specified by the user \"\"\"\n",
    "    return np.arange(hmin, hmax+1e-6, dh)\n",
    "\n",
    "def update_hx(time=0, hx = None, hx_idx = None):\n",
    "    \"\"\" Updates the protocol hx(t) at time t. The new value is hx.\n",
    "    One can either specify a scalar value for the hx field. Another option\n",
    "    is to use the integer index for the field. Since we are hx can take only\n",
    "    a discrete set of values between hmin and hmax, those values can are also indexed by integers\n",
    "    \"\"\"\n",
    "    if hx_idx is not None:\n",
    "        hx_discrete[time]=hx_idx\n",
    "    elif hx is not None:\n",
    "        idx = np.argmin(np.abs(h_set-hx))\n",
    "        hx_discrete[time] = idx\n",
    "    else:\n",
    "        assert False, \"Error in update_hx in Hamiltonian class\"\n",
    "\n",
    "def evaluate_H_at_hx(hx = 0.):\n",
    "    \"\"\" Returns the full hamiltonian evaluated at global transverse field hx \"\"\"\n",
    "    return hamiltonian_cont(time = hx)\n",
    "\n",
    "hamitonian()"
   ]
  },
  {
   "cell_type": "markdown",
   "metadata": {},
   "source": [
    "## HAMILTONIANA CHE MI ASPETTO"
   ]
  },
  {
   "cell_type": "code",
   "execution_count": 67,
   "metadata": {
    "ExecuteTime": {
     "end_time": "2020-11-04T13:45:32.402548Z",
     "start_time": "2020-11-04T13:45:32.371628Z"
    }
   },
   "outputs": [
    {
     "name": "stdout",
     "output_type": "stream",
     "text": [
      "[[-1.5 -2.  -2.   0. ]\n",
      " [-2.   0.5  0.  -2. ]\n",
      " [-2.   0.   0.5 -2. ]\n",
      " [ 0.  -2.  -2.   0.5]]\n"
     ]
    }
   ],
   "source": [
    "from quspin.operators import hamiltonian\n",
    "from quspin.basis import spin_basis_1d\n",
    "def hamitonian(L=2 , J=1.0, hz = 1.0, hx_min=-4., hx_max =4., dh=2., n_step=1, symm =True ,**kwargs): # N is the number of time steps\n",
    "    #basis = spin_basis_1d(L=L,pauli=False)\n",
    "    fct_arg=[]\n",
    "    ones=[[-1,i] for i in range(L)]\n",
    "    z_field=[[-hz,i] for i in range(L)]\n",
    "\n",
    "    if L>1:\n",
    "        if symm is True:\n",
    "            basis = spin_basis_1d(L=L,pauli=False) # include symmetries (momentum and parity sectors)\n",
    "        else:\n",
    "            basis = spin_basis_1d(L=L,pauli=False) # w/o symmetries\n",
    "\n",
    "        zz_int =[[-J,i,(i+1)%L] for i in range(L)] # Has periodic boundary conditions\n",
    "        static = [[\"zz\",zz_int], [\"z\",z_field]]\n",
    "    else:\n",
    "        basis = spin_basis_1d(L=L,pauli=False) # w/o symmetries (momentum and parity sectors)\n",
    "        static = [[\"z\", z_field]]\n",
    "\n",
    "\n",
    "    h_set = compute_h_set(hx_min,hx_max,dh) # discrete set of possible h fields \n",
    "    hx_discrete = np.zeros(n_step, dtype=int) # hx_discrete are protocols specified as integers\n",
    "\n",
    "    fct = lambda time: h_set[hx_discrete[int(time)]] # time takes discrete values in our problem\n",
    "    fct_cont = lambda h: h # trick : when calling the time - will instead interpret it as a field value \n",
    "\n",
    "    dynamic_discrete = [[\"x\", ones, fct, fct_arg]]\n",
    "    dynamic_cont = [[\"x\", ones, fct_cont, fct_arg]]\n",
    "\n",
    "    kwargs = {'dtype':np.float64,'basis':basis,'check_symm':False,'check_herm':False,'check_pcon':False}\n",
    "\n",
    "    basis = basis\n",
    "    hamiltonian_discrete = hamiltonian(static, dynamic_discrete, **kwargs)\n",
    "    hamiltonian_cont = hamiltonian(static, dynamic_cont, **kwargs)\n",
    "    print(hamiltonian_cont(time = 4).todense())\n",
    "\n",
    "def ground_state(hx = 0.):\n",
    "    return hamiltonian_cont.eigsh(time=hx, k=1, which='SA')[1]\n",
    "\n",
    "def eigenvalue(hx = 0.):\n",
    "    \"\"\" Returns the spectrum of the Hamiltonian for a specific value of the transverse field \"\"\"\n",
    "    return hamiltonian_cont.eigvalsh(time=hx)\n",
    "\n",
    "def eigen_basis(hx = 0.):\n",
    "    \"\"\" Returns the eigenbasis of the Hamiltonian for a specific value of the transverse field \"\"\"\n",
    "    return hamiltonian_cont.eigh(time=hx)\n",
    "\n",
    "def compute_h_set(hmin, hmax, dh):\n",
    "    \"\"\" Computes the different values of hx given the maximum and minimum values specified by the user \"\"\"\n",
    "    return np.arange(hmin, hmax+1e-6, dh)\n",
    "\n",
    "def update_hx(time=0, hx = None, hx_idx = None):\n",
    "    \"\"\" Updates the protocol hx(t) at time t. The new value is hx.\n",
    "    One can either specify a scalar value for the hx field. Another option\n",
    "    is to use the integer index for the field. Since we are hx can take only\n",
    "    a discrete set of values between hmin and hmax, those values can are also indexed by integers\n",
    "    \"\"\"\n",
    "    if hx_idx is not None:\n",
    "        hx_discrete[time]=hx_idx\n",
    "    elif hx is not None:\n",
    "        idx = np.argmin(np.abs(h_set-hx))\n",
    "        hx_discrete[time] = idx\n",
    "    else:\n",
    "        assert False, \"Error in update_hx in Hamiltonian class\"\n",
    "\n",
    "def evaluate_H_at_hx(hx = 0.):\n",
    "    \"\"\" Returns the full hamiltonian evaluated at global transverse field hx \"\"\"\n",
    "    return hamiltonian_cont(time = hx)\n",
    "\n",
    "hamitonian()"
   ]
  },
  {
   "cell_type": "markdown",
   "metadata": {},
   "source": [
    "## HO CAZIATO H, (SONO SCARSO)"
   ]
  },
  {
   "cell_type": "code",
   "execution_count": 56,
   "metadata": {
    "ExecuteTime": {
     "end_time": "2020-11-04T12:31:44.079804Z",
     "start_time": "2020-11-04T12:31:44.070828Z"
    }
   },
   "outputs": [
    {
     "name": "stderr",
     "output_type": "stream",
     "text": [
      "C:\\Users\\GUIDA\\anaconda3\\envs\\monti\\lib\\site-packages\\ipykernel_launcher.py:3: ComplexWarning: Casting complex values to real discards the imaginary part\n",
      "  This is separate from the ipykernel package so we can avoid doing imports until\n"
     ]
    },
    {
     "data": {
      "text/plain": [
       "array([[-0.75, -2.  , -0.  , -0.  ],\n",
       "       [-2.  ,  0.75, -0.  , -0.  ],\n",
       "       [-0.  , -0.  , -0.25, -2.  ],\n",
       "       [-0.  , -0.  , -2.  ,  0.25]])"
      ]
     },
     "execution_count": 56,
     "metadata": {},
     "output_type": "execute_result"
    }
   ],
   "source": [
    "from Qmodel import compute_H_and_LA\n",
    "hamiltonian = compute_H_and_LA(L=2, g=1, field=4)[\"H\"]\n",
    "np.array(hamiltonian,dtype=\"float\")"
   ]
  },
  {
   "cell_type": "code",
   "execution_count": 64,
   "metadata": {
    "ExecuteTime": {
     "end_time": "2020-11-04T13:31:06.296351Z",
     "start_time": "2020-11-04T13:31:06.287373Z"
    }
   },
   "outputs": [
    {
     "name": "stdout",
     "output_type": "stream",
     "text": [
      "[[-1.5 -2.  -2.  -0. ]\n",
      " [-2.   0.5 -0.  -2. ]\n",
      " [-2.  -0.   0.5 -2. ]\n",
      " [-0.  -2.  -2.   0.5]]\n"
     ]
    }
   ],
   "source": [
    "H1=np.kron(sigma_z,sigma_z)\n",
    "H2=np.kron(sigma_z,np.identity(2))\n",
    "H3=4*np.kron(sigma_x,np.identity(2))\n",
    "H4=np.kron(sigma_z,sigma_z)\n",
    "H5=np.kron(np.identity(2),sigma_z)\n",
    "H6=4*np.kron(np.identity(2),sigma_x)\n",
    "H11= H1+H2+H3+H4+H5+H6\n",
    "print(-H11)"
   ]
  },
  {
   "cell_type": "code",
   "execution_count": 62,
   "metadata": {
    "ExecuteTime": {
     "end_time": "2020-11-04T13:27:26.499641Z",
     "start_time": "2020-11-04T13:27:26.494650Z"
    }
   },
   "outputs": [
    {
     "data": {
      "text/plain": [
       "array([[1., 0.],\n",
       "       [0., 1.]])"
      ]
     },
     "execution_count": 62,
     "metadata": {},
     "output_type": "execute_result"
    }
   ],
   "source": [
    "np.identity(2)"
   ]
  },
  {
   "cell_type": "code",
   "execution_count": 61,
   "metadata": {
    "ExecuteTime": {
     "end_time": "2020-11-04T12:44:57.440397Z",
     "start_time": "2020-11-04T12:44:57.427435Z"
    }
   },
   "outputs": [
    {
     "name": "stdout",
     "output_type": "stream",
     "text": [
      "[[-0.75 -2.   -0.   -0.  ]\n",
      " [-2.    0.75 -0.   -0.  ]\n",
      " [-0.   -0.   -0.25 -2.  ]\n",
      " [-0.   -0.   -2.    0.25]]\n"
     ]
    }
   ],
   "source": [
    "field=4\n",
    "#pauli matrices\n",
    "sigma_x=1/2*np.array([[0,1],[1,0]])\n",
    "#sigma_y=np.array([[0,-1j],[1j,0]], dtype=complex) # INUTILE\n",
    "sigma_z=1/2*np.array([[1,0],[0,-1]])\n",
    "sigma_z_interaction= np.kron(sigma_z,sigma_z)\n",
    "\n",
    "#create the hamiltonian according to the number of qubits\n",
    "L=2\n",
    "H1 = np.zeros((2**L,2**L))\n",
    "H2 = np.zeros((2**L,2**L))\n",
    "H3 = np.zeros((2**L,2**L))\n",
    "\n",
    "for j in range(L-1):   \n",
    "    H1 = np.kron(np.identity(2**j),sigma_z_interaction)\n",
    "    H1 = np.kron(H1,np.identity(2**(L-j-2)))\n",
    "\n",
    "for j in range(L):\n",
    "    H3 = np.kron(np.identity(2**j),sigma_x)\n",
    "    H3 = np.kron(H3,np.identity(2**(L-j-1)))\n",
    "    H2 = np.kron(np.identity(2**j),sigma_z)\n",
    "    H2 = np.kron(H2,np.identity(2**(L-j-1)))\n",
    "\n",
    "H = -(H1 + H2 + field*H3)\n",
    "print(H)"
   ]
  },
  {
   "cell_type": "markdown",
   "metadata": {},
   "source": [
    "## TUTORIAL QUSPIN \n",
    "\n",
    "http://weinbe58.github.io/QuSpin/generated/quspin.basis.spin_basis_1d.html"
   ]
  },
  {
   "cell_type": "code",
   "execution_count": 43,
   "metadata": {
    "ExecuteTime": {
     "end_time": "2020-11-04T12:25:51.347292Z",
     "start_time": "2020-11-04T12:25:51.329339Z"
    }
   },
   "outputs": [
    {
     "name": "stdout",
     "output_type": "stream",
     "text": [
      "Hermiticity check passed!\n",
      "Symmetry checks passed!\n",
      "[[ 3.809  0.809  0.809  0.   ]\n",
      " [ 0.809 -2.     0.     0.809]\n",
      " [ 0.809  0.    -2.     0.809]\n",
      " [ 0.     0.809  0.809  0.191]]\n"
     ]
    }
   ],
   "source": [
    "##### define model parameters #####\n",
    "L=2 # system size\n",
    "J=1.0 # spin interaction\n",
    "g=0.809 # transverse field\n",
    "h=0.9045 # longitudinal field\n",
    "##### define periodic drive #####\n",
    "Omega=4.5 # drive frequency\n",
    "def drive(t,Omega):\n",
    "\treturn np.cos(Omega*t)\n",
    "drive_args=[Omega]\n",
    "#\n",
    "##### construct basis in the 0-total momentum and +1-parity sector\n",
    "basis=spin_basis_1d(L=L,a=1)\n",
    "# define PBC site-coupling lists for operators\n",
    "x_field=[[g,i] for i in range(L)]\n",
    "z_field=[[h,i] for i in range(L)]\n",
    "J_nn=[[J,i,(i+1)%L] for i in range(L)] # PBC\n",
    "# static and dynamic lists\n",
    "static=[[\"zz\",J_nn],[\"z\",z_field]]\n",
    "dynamic=[[\"x\",x_field,drive,drive_args]]\n",
    "###### construct Hamiltonian\n",
    "H=hamiltonian(static,dynamic,static_fmt=\"dia\",dtype=np.float64,basis=basis)\n",
    "print(H.toarray())"
   ]
  }
 ],
 "metadata": {
  "kernelspec": {
   "display_name": "Python 3",
   "language": "python",
   "name": "python3"
  },
  "language_info": {
   "codemirror_mode": {
    "name": "ipython",
    "version": 3
   },
   "file_extension": ".py",
   "mimetype": "text/x-python",
   "name": "python",
   "nbconvert_exporter": "python",
   "pygments_lexer": "ipython3",
   "version": "3.7.9"
  },
  "latex_envs": {
   "LaTeX_envs_menu_present": true,
   "autoclose": false,
   "autocomplete": true,
   "bibliofile": "biblio.bib",
   "cite_by": "apalike",
   "current_citInitial": 1,
   "eqLabelWithNumbers": true,
   "eqNumInitial": 1,
   "hotkeys": {
    "equation": "Ctrl-E",
    "itemize": "Ctrl-I"
   },
   "labels_anchors": false,
   "latex_user_defs": false,
   "report_style_numbering": false,
   "user_envs_cfg": false
  },
  "toc": {
   "base_numbering": 1,
   "nav_menu": {},
   "number_sections": true,
   "sideBar": true,
   "skip_h1_title": false,
   "title_cell": "Table of Contents",
   "title_sidebar": "Contents",
   "toc_cell": false,
   "toc_position": {},
   "toc_section_display": true,
   "toc_window_display": false
  }
 },
 "nbformat": 4,
 "nbformat_minor": 2
}

{
 "cells": [
  {
   "cell_type": "code",
   "execution_count": 1,
   "metadata": {
    "ExecuteTime": {
     "end_time": "2020-10-30T21:20:39.992754Z",
     "start_time": "2020-10-30T21:20:38.113320Z"
    }
   },
   "outputs": [],
   "source": [
    "import numpy as np\n",
    "import pandas as pd\n",
    "import matplotlib.pyplot as plt\n",
    "from tqdm import tqdm,tnrange\n",
    "from SD import stochastic_descent\n",
    "\n",
    "import os\n",
    "import pandas as pd"
   ]
  },
  {
   "cell_type": "code",
   "execution_count": 2,
   "metadata": {
    "ExecuteTime": {
     "end_time": "2020-10-30T21:20:40.005292Z",
     "start_time": "2020-10-30T21:20:39.995316Z"
    }
   },
   "outputs": [],
   "source": [
    "def correlation(matrix,h):\n",
    "    '''\n",
    "    Given a matrix this function computes the correlation quantity Q(T) as in the paper.\n",
    "    Matrix must have dimension (n_protocols,lenght_of_protocol)    \n",
    "    '''\n",
    "    n_row = matrix.shape[0]\n",
    "    n_col = matrix.shape[1] \n",
    "    \n",
    "    mean_hx = np.array([matrix[:,i].mean() for i in range(n_col)]) #mean over all protocols at fixed time\n",
    "    avg_over_h = np.array([np.array([ (matrix[i,j]-mean_hx[j])**2 for i in range(n_row)]).sum()/n_row for j in range(n_col)])\n",
    "    avg_over_Nt = (1/((h*h)*n_col))*(avg_over_h.sum())\n",
    "    return  avg_over_Nt"
   ]
  },
  {
   "cell_type": "code",
   "execution_count": 3,
   "metadata": {
    "ExecuteTime": {
     "end_time": "2020-10-30T21:20:40.818828Z",
     "start_time": "2020-10-30T21:20:40.806859Z"
    }
   },
   "outputs": [
    {
     "name": "stdout",
     "output_type": "stream",
     "text": [
      "qstart [-0.85065081+0.j  0.52573111+0.j]\n"
     ]
    }
   ],
   "source": [
    "#Starting qstates and their normalization\n",
    "qstart = np.array([-1/2 - (np.sqrt(5))/2 ,1], dtype=complex)\n",
    "qtarget = np.array([+1/2 + (np.sqrt(5))/2 ,1], dtype=complex)\n",
    "qstart=qstart/np.sqrt(np.vdot(qstart,qstart))\n",
    "qtarget=qtarget/np.sqrt(np.vdot(qtarget,qtarget))\n",
    "print(\"qstart\",qstart)"
   ]
  },
  {
   "cell_type": "code",
   "execution_count": 4,
   "metadata": {
    "ExecuteTime": {
     "end_time": "2020-10-30T21:20:42.203244Z",
     "start_time": "2020-10-30T21:20:42.177312Z"
    }
   },
   "outputs": [
    {
     "name": "stdout",
     "output_type": "stream",
     "text": [
      "-------------PARAMETERS for SD---------------\n",
      "Number of qubits (L): 1\n",
      "Magnetic fields(h): 4\n",
      "Timesteps (n_steps): 100\n",
      "\n",
      "\n",
      "\n",
      "\n",
      "--------------PARAMETERS for Plotting-------------\n",
      "Timegrid: [0.   0.05 0.1  0.15 0.2  0.25 0.3  0.35 0.4  0.45 0.5  0.55 0.6  0.65\n",
      " 0.7  0.75 0.8  0.85 0.9  0.95 1.   1.1  1.2  1.3  1.4  1.5  1.6  1.7\n",
      " 1.8  1.9  2.   2.1  2.2  2.3  2.4  2.5  2.6  2.7  2.8  2.9  3.   3.1\n",
      " 3.2  3.3  3.4  3.5  3.6  3.7  3.8  3.9  4.  ]\n",
      "Repetition at each timestep: 35\n",
      "\n",
      "\n"
     ]
    }
   ],
   "source": [
    "#SD parameters\n",
    "L = 1\n",
    "h = 4\n",
    "h_list = [-h,h]\n",
    "nsteps = 100\n",
    "exp_decay = False\n",
    "metropolis = False\n",
    "\n",
    "print(\"-------------PARAMETERS for SD---------------\")\n",
    "print(\"Number of qubits (L):\", L)\n",
    "print(\"Magnetic fields(h):\", h)\n",
    "print(\"Timesteps (n_steps):\", nsteps)\n",
    "print(\"\\n\")\n",
    "print(\"\\n\")\n",
    "\n",
    "#parameters for Fig. pag 2 ---- Calculation of fidelity and Q(T)\n",
    "#step_in_time_grid = 0.1\n",
    "times_first_part=np.arange(0,1,0.05)\n",
    "times_second_part=np.arange(1,4.1,0.1)\n",
    "times=np.concatenate([times_first_part,times_second_part])\n",
    "#times = np.arange(0,4,0.1)#+step_in_time_grid,step=step_in_time_grid)\n",
    "iter_for_each_time = 35\n",
    "\n",
    "fidelity_for_txt = []\n",
    "print(\"--------------PARAMETERS for Plotting-------------\")\n",
    "print(\"Timegrid:\", times)\n",
    "print(\"Repetition at each timestep:\", iter_for_each_time)\n",
    "print(\"\\n\")\n",
    "\n",
    "params_dict = {\"L\":L, \"h\":h, \"timesteps\":nsteps, \"exp_decay\":exp_decay, \"metropolis\":metropolis, \"times\":times, \"iter_for_each_time\": iter_for_each_time}\n",
    "params_df = pd.DataFrame.from_dict(params_dict, orient=\"index\")"
   ]
  },
  {
   "cell_type": "code",
   "execution_count": 5,
   "metadata": {
    "ExecuteTime": {
     "end_time": "2020-10-30T15:47:51.044428Z",
     "start_time": "2020-10-30T14:50:26.785424Z"
    },
    "code_folding": [],
    "scrolled": true
   },
   "outputs": [
    {
     "name": "stdout",
     "output_type": "stream",
     "text": [
      "WARNING! Attenzione a non sovrascrivere\n",
      "Running time: 0.0\n"
     ]
    },
    {
     "data": {
      "application/vnd.jupyter.widget-view+json": {
       "model_id": "91529d1fb0c24a9d949d0751a8c26a40",
       "version_major": 2,
       "version_minor": 0
      },
      "text/plain": [
       "HBox(children=(IntProgress(value=0, max=35), HTML(value='')))"
      ]
     },
     "metadata": {},
     "output_type": "display_data"
    },
    {
     "name": "stdout",
     "output_type": "stream",
     "text": [
      "\n",
      "Running time: 0.05\n"
     ]
    },
    {
     "data": {
      "application/vnd.jupyter.widget-view+json": {
       "model_id": "1244e91d36454ad3aa322939aad98460",
       "version_major": 2,
       "version_minor": 0
      },
      "text/plain": [
       "HBox(children=(IntProgress(value=0, max=35), HTML(value='')))"
      ]
     },
     "metadata": {},
     "output_type": "display_data"
    },
    {
     "name": "stdout",
     "output_type": "stream",
     "text": [
      "\n",
      "Mean fidelity: 0.20149747169395113\n",
      "Q value is: 0.018677551020408162\n",
      "\n",
      "\n",
      "Running time: 0.1\n"
     ]
    },
    {
     "data": {
      "application/vnd.jupyter.widget-view+json": {
       "model_id": "ba9ec13b49d34a74ba6a118733210ecf",
       "version_major": 2,
       "version_minor": 0
      },
      "text/plain": [
       "HBox(children=(IntProgress(value=0, max=35), HTML(value='')))"
      ]
     },
     "metadata": {},
     "output_type": "display_data"
    },
    {
     "name": "stdout",
     "output_type": "stream",
     "text": [
      "\n",
      "Mean fidelity: 0.20596619397282362\n",
      "Q value is: 0.0198530612244898\n",
      "\n",
      "\n",
      "Running time: 0.15000000000000002\n"
     ]
    },
    {
     "data": {
      "application/vnd.jupyter.widget-view+json": {
       "model_id": "dd90bf3939aa45d780c084a4e1d5c8af",
       "version_major": 2,
       "version_minor": 0
      },
      "text/plain": [
       "HBox(children=(IntProgress(value=0, max=35), HTML(value='')))"
      ]
     },
     "metadata": {},
     "output_type": "display_data"
    },
    {
     "name": "stdout",
     "output_type": "stream",
     "text": [
      "\n",
      "Mean fidelity: 0.21333346750855875\n",
      "Q value is: 0.019983673469387755\n",
      "\n",
      "\n",
      "Running time: 0.2\n"
     ]
    },
    {
     "data": {
      "application/vnd.jupyter.widget-view+json": {
       "model_id": "a574b35aa3c24631acb817b2c64ccc75",
       "version_major": 2,
       "version_minor": 0
      },
      "text/plain": [
       "HBox(children=(IntProgress(value=0, max=35), HTML(value='')))"
      ]
     },
     "metadata": {},
     "output_type": "display_data"
    },
    {
     "name": "stdout",
     "output_type": "stream",
     "text": [
      "\n",
      "Mean fidelity: 0.22348088878982106\n",
      "Q value is: 0.0198530612244898\n",
      "\n",
      "\n",
      "Running time: 0.25\n"
     ]
    },
    {
     "data": {
      "application/vnd.jupyter.widget-view+json": {
       "model_id": "8cbdc7c999b940b09d13fc7612895081",
       "version_major": 2,
       "version_minor": 0
      },
      "text/plain": [
       "HBox(children=(IntProgress(value=0, max=35), HTML(value='')))"
      ]
     },
     "metadata": {},
     "output_type": "display_data"
    },
    {
     "name": "stdout",
     "output_type": "stream",
     "text": [
      "\n",
      "Mean fidelity: 0.23624673767861687\n",
      "Q value is: 0.018677551020408162\n",
      "\n",
      "\n",
      "Running time: 0.30000000000000004\n"
     ]
    },
    {
     "data": {
      "application/vnd.jupyter.widget-view+json": {
       "model_id": "340faeb8d0fa46289cb90bde6210a63f",
       "version_major": 2,
       "version_minor": 0
      },
      "text/plain": [
       "HBox(children=(IntProgress(value=0, max=35), HTML(value='')))"
      ]
     },
     "metadata": {},
     "output_type": "display_data"
    },
    {
     "name": "stdout",
     "output_type": "stream",
     "text": [
      "\n",
      "Mean fidelity: 0.25141754371505526\n",
      "Q value is: 0.036440816326530616\n",
      "\n",
      "\n",
      "Running time: 0.35000000000000003\n"
     ]
    },
    {
     "data": {
      "application/vnd.jupyter.widget-view+json": {
       "model_id": "4d918220280f4bad8310421e4ebea29f",
       "version_major": 2,
       "version_minor": 0
      },
      "text/plain": [
       "HBox(children=(IntProgress(value=0, max=35), HTML(value='')))"
      ]
     },
     "metadata": {},
     "output_type": "display_data"
    },
    {
     "name": "stdout",
     "output_type": "stream",
     "text": [
      "\n",
      "Mean fidelity: 0.2687792321889012\n",
      "Q value is: 0.03578775510204082\n",
      "\n",
      "\n",
      "Running time: 0.4\n"
     ]
    },
    {
     "data": {
      "application/vnd.jupyter.widget-view+json": {
       "model_id": "78b92441865540a4a73cc9f1e0ef76f3",
       "version_major": 2,
       "version_minor": 0
      },
      "text/plain": [
       "HBox(children=(IntProgress(value=0, max=35), HTML(value='')))"
      ]
     },
     "metadata": {},
     "output_type": "display_data"
    },
    {
     "name": "stdout",
     "output_type": "stream",
     "text": [
      "\n",
      "Mean fidelity: 0.2880180993001363\n",
      "Q value is: 0.05577142857142857\n",
      "\n",
      "\n",
      "Running time: 0.45\n"
     ]
    },
    {
     "data": {
      "application/vnd.jupyter.widget-view+json": {
       "model_id": "145186a9c13a4f87bbfc7be48f0fffc9",
       "version_major": 2,
       "version_minor": 0
      },
      "text/plain": [
       "HBox(children=(IntProgress(value=0, max=35), HTML(value='')))"
      ]
     },
     "metadata": {},
     "output_type": "display_data"
    },
    {
     "name": "stdout",
     "output_type": "stream",
     "text": [
      "\n",
      "Mean fidelity: 0.3089575497299076\n",
      "Q value is: 0.049371428571428566\n",
      "\n",
      "\n",
      "Running time: 0.5\n"
     ]
    },
    {
     "data": {
      "application/vnd.jupyter.widget-view+json": {
       "model_id": "53f923eeba984ebc8f0d14e912435674",
       "version_major": 2,
       "version_minor": 0
      },
      "text/plain": [
       "HBox(children=(IntProgress(value=0, max=35), HTML(value='')))"
      ]
     },
     "metadata": {},
     "output_type": "display_data"
    },
    {
     "name": "stdout",
     "output_type": "stream",
     "text": [
      "\n",
      "Mean fidelity: 0.331134874791449\n",
      "Q value is: 0.07307755102040817\n",
      "\n",
      "\n",
      "Running time: 0.55\n"
     ]
    },
    {
     "data": {
      "application/vnd.jupyter.widget-view+json": {
       "model_id": "f099d8cbe8f24d48aef03cb4e253ec1b",
       "version_major": 2,
       "version_minor": 0
      },
      "text/plain": [
       "HBox(children=(IntProgress(value=0, max=35), HTML(value='')))"
      ]
     },
     "metadata": {},
     "output_type": "display_data"
    },
    {
     "name": "stdout",
     "output_type": "stream",
     "text": [
      "\n",
      "Mean fidelity: 0.3543884263781447\n",
      "Q value is: 0.08411428571428572\n",
      "\n",
      "\n",
      "Running time: 0.6000000000000001\n"
     ]
    },
    {
     "data": {
      "application/vnd.jupyter.widget-view+json": {
       "model_id": "7ac323cf58294a9eaf1b5267c36d375c",
       "version_major": 2,
       "version_minor": 0
      },
      "text/plain": [
       "HBox(children=(IntProgress(value=0, max=35), HTML(value='')))"
      ]
     },
     "metadata": {},
     "output_type": "display_data"
    },
    {
     "name": "stdout",
     "output_type": "stream",
     "text": [
      "\n",
      "Mean fidelity: 0.3782158462439608\n",
      "Q value is: 0.12858775510204085\n",
      "\n",
      "\n",
      "Running time: 0.65\n"
     ]
    },
    {
     "data": {
      "application/vnd.jupyter.widget-view+json": {
       "model_id": "5f9f6417d54345d1ab4b5154e99fc47d",
       "version_major": 2,
       "version_minor": 0
      },
      "text/plain": [
       "HBox(children=(IntProgress(value=0, max=35), HTML(value='')))"
      ]
     },
     "metadata": {},
     "output_type": "display_data"
    },
    {
     "name": "stdout",
     "output_type": "stream",
     "text": [
      "\n",
      "Mean fidelity: 0.4026236023783963\n",
      "Q value is: 0.1574530612244898\n",
      "\n",
      "\n",
      "Running time: 0.7000000000000001\n"
     ]
    },
    {
     "data": {
      "application/vnd.jupyter.widget-view+json": {
       "model_id": "1fe3fe74b02b46db98906087c4c93b0e",
       "version_major": 2,
       "version_minor": 0
      },
      "text/plain": [
       "HBox(children=(IntProgress(value=0, max=35), HTML(value='')))"
      ]
     },
     "metadata": {},
     "output_type": "display_data"
    },
    {
     "name": "stdout",
     "output_type": "stream",
     "text": [
      "\n",
      "Mean fidelity: 0.4273135170901536\n",
      "Q value is: 0.19154285714285713\n",
      "\n",
      "\n",
      "Running time: 0.75\n"
     ]
    },
    {
     "data": {
      "application/vnd.jupyter.widget-view+json": {
       "model_id": "de372c20321b409ca803bb7683226f96",
       "version_major": 2,
       "version_minor": 0
      },
      "text/plain": [
       "HBox(children=(IntProgress(value=0, max=35), HTML(value='')))"
      ]
     },
     "metadata": {},
     "output_type": "display_data"
    },
    {
     "name": "stdout",
     "output_type": "stream",
     "text": [
      "\n",
      "Mean fidelity: 0.4519873811813975\n",
      "Q value is: 0.22778775510204083\n",
      "\n",
      "\n",
      "Running time: 0.8\n"
     ]
    },
    {
     "data": {
      "application/vnd.jupyter.widget-view+json": {
       "model_id": "c3728197153b4d1d8d22c286dbb673a7",
       "version_major": 2,
       "version_minor": 0
      },
      "text/plain": [
       "HBox(children=(IntProgress(value=0, max=35), HTML(value='')))"
      ]
     },
     "metadata": {},
     "output_type": "display_data"
    },
    {
     "name": "stdout",
     "output_type": "stream",
     "text": [
      "\n",
      "Mean fidelity: 0.4768583749784663\n",
      "Q value is: 0.2620081632653061\n",
      "\n",
      "\n",
      "Running time: 0.8500000000000001\n"
     ]
    },
    {
     "data": {
      "application/vnd.jupyter.widget-view+json": {
       "model_id": "bca802ebb1774307bd164f6ca391ddb9",
       "version_major": 2,
       "version_minor": 0
      },
      "text/plain": [
       "HBox(children=(IntProgress(value=0, max=35), HTML(value='')))"
      ]
     },
     "metadata": {},
     "output_type": "display_data"
    },
    {
     "name": "stdout",
     "output_type": "stream",
     "text": [
      "\n",
      "Mean fidelity: 0.5016844456745506\n",
      "Q value is: 0.30928979591836736\n",
      "\n",
      "\n",
      "Running time: 0.9\n"
     ]
    },
    {
     "data": {
      "application/vnd.jupyter.widget-view+json": {
       "model_id": "2328c5cab5734c84ae556438220c874f",
       "version_major": 2,
       "version_minor": 0
      },
      "text/plain": [
       "HBox(children=(IntProgress(value=0, max=35), HTML(value='')))"
      ]
     },
     "metadata": {},
     "output_type": "display_data"
    },
    {
     "name": "stdout",
     "output_type": "stream",
     "text": [
      "\n",
      "Mean fidelity: 0.5264022744045017\n",
      "Q value is: 0.3438367346938776\n",
      "\n",
      "\n",
      "Running time: 0.9500000000000001\n"
     ]
    },
    {
     "data": {
      "application/vnd.jupyter.widget-view+json": {
       "model_id": "76adb58053c146729800cc8c1fecf6a6",
       "version_major": 2,
       "version_minor": 0
      },
      "text/plain": [
       "HBox(children=(IntProgress(value=0, max=35), HTML(value='')))"
      ]
     },
     "metadata": {},
     "output_type": "display_data"
    },
    {
     "name": "stdout",
     "output_type": "stream",
     "text": [
      "\n",
      "Mean fidelity: 0.5511700209483141\n",
      "Q value is: 0.36989387755102043\n",
      "\n",
      "\n",
      "Running time: 1.0\n"
     ]
    },
    {
     "data": {
      "application/vnd.jupyter.widget-view+json": {
       "model_id": "6dd21f85e4b54b33b0eb71287adb76c4",
       "version_major": 2,
       "version_minor": 0
      },
      "text/plain": [
       "HBox(children=(IntProgress(value=0, max=35), HTML(value='')))"
      ]
     },
     "metadata": {},
     "output_type": "display_data"
    },
    {
     "name": "stdout",
     "output_type": "stream",
     "text": [
      "\n",
      "Mean fidelity: 0.5758276213227593\n",
      "Q value is: 0.40365714285714294\n",
      "\n",
      "\n",
      "Running time: 1.1\n"
     ]
    },
    {
     "data": {
      "application/vnd.jupyter.widget-view+json": {
       "model_id": "30fe7a2b4af9470bab8de75f4c6fa41e",
       "version_major": 2,
       "version_minor": 0
      },
      "text/plain": [
       "HBox(children=(IntProgress(value=0, max=35), HTML(value='')))"
      ]
     },
     "metadata": {},
     "output_type": "display_data"
    },
    {
     "name": "stdout",
     "output_type": "stream",
     "text": [
      "\n",
      "Mean fidelity: 0.624312347831548\n",
      "Q value is: 0.4632163265306123\n",
      "\n",
      "\n",
      "Running time: 1.2000000000000002\n"
     ]
    },
    {
     "data": {
      "application/vnd.jupyter.widget-view+json": {
       "model_id": "0ffb8b233d514348b3d4c9a8457d77b8",
       "version_major": 2,
       "version_minor": 0
      },
      "text/plain": [
       "HBox(children=(IntProgress(value=0, max=35), HTML(value='')))"
      ]
     },
     "metadata": {},
     "output_type": "display_data"
    },
    {
     "name": "stdout",
     "output_type": "stream",
     "text": [
      "\n",
      "Mean fidelity: 0.6715859612264902\n",
      "Q value is: 0.5039673469387755\n",
      "\n",
      "\n",
      "Running time: 1.3000000000000003\n"
     ]
    },
    {
     "data": {
      "application/vnd.jupyter.widget-view+json": {
       "model_id": "aa883a528a12477c93599f324560fbe9",
       "version_major": 2,
       "version_minor": 0
      },
      "text/plain": [
       "HBox(children=(IntProgress(value=0, max=35), HTML(value='')))"
      ]
     },
     "metadata": {},
     "output_type": "display_data"
    },
    {
     "name": "stdout",
     "output_type": "stream",
     "text": [
      "\n",
      "Mean fidelity: 0.7168156675023152\n",
      "Q value is: 0.5464163265306122\n",
      "\n",
      "\n",
      "Running time: 1.4000000000000004\n"
     ]
    },
    {
     "data": {
      "application/vnd.jupyter.widget-view+json": {
       "model_id": "b4e5f35913a14be5b7d3110a9af4295d",
       "version_major": 2,
       "version_minor": 0
      },
      "text/plain": [
       "HBox(children=(IntProgress(value=0, max=35), HTML(value='')))"
      ]
     },
     "metadata": {},
     "output_type": "display_data"
    },
    {
     "name": "stdout",
     "output_type": "stream",
     "text": [
      "\n",
      "Mean fidelity: 0.7594186609669104\n",
      "Q value is: 0.5769142857142857\n",
      "\n",
      "\n",
      "Running time: 1.5000000000000004\n"
     ]
    },
    {
     "data": {
      "application/vnd.jupyter.widget-view+json": {
       "model_id": "a2cee4152011459ea95386c662fa7b73",
       "version_major": 2,
       "version_minor": 0
      },
      "text/plain": [
       "HBox(children=(IntProgress(value=0, max=35), HTML(value='')))"
      ]
     },
     "metadata": {},
     "output_type": "display_data"
    },
    {
     "name": "stdout",
     "output_type": "stream",
     "text": [
      "\n",
      "Mean fidelity: 0.8002676690190007\n",
      "Q value is: 0.6221061224489797\n",
      "\n",
      "\n",
      "Running time: 1.6000000000000005\n"
     ]
    },
    {
     "data": {
      "application/vnd.jupyter.widget-view+json": {
       "model_id": "7f4e696c73f944bda7a097d799255214",
       "version_major": 2,
       "version_minor": 0
      },
      "text/plain": [
       "HBox(children=(IntProgress(value=0, max=35), HTML(value='')))"
      ]
     },
     "metadata": {},
     "output_type": "display_data"
    },
    {
     "name": "stdout",
     "output_type": "stream",
     "text": [
      "\n",
      "Mean fidelity: 0.8380591795845161\n",
      "Q value is: 0.6491428571428571\n",
      "\n",
      "\n",
      "Running time: 1.7000000000000006\n"
     ]
    },
    {
     "data": {
      "application/vnd.jupyter.widget-view+json": {
       "model_id": "ec434f0ae6814c3895f3c99fc20c49fb",
       "version_major": 2,
       "version_minor": 0
      },
      "text/plain": [
       "HBox(children=(IntProgress(value=0, max=35), HTML(value='')))"
      ]
     },
     "metadata": {},
     "output_type": "display_data"
    },
    {
     "name": "stdout",
     "output_type": "stream",
     "text": [
      "\n",
      "Mean fidelity: 0.8716548266865087\n",
      "Q value is: 0.6654040816326531\n",
      "\n",
      "\n",
      "Running time: 1.8000000000000007\n"
     ]
    },
    {
     "data": {
      "application/vnd.jupyter.widget-view+json": {
       "model_id": "38b02ef1eb7449bbb8e0ae40b2ff711f",
       "version_major": 2,
       "version_minor": 0
      },
      "text/plain": [
       "HBox(children=(IntProgress(value=0, max=35), HTML(value='')))"
      ]
     },
     "metadata": {},
     "output_type": "display_data"
    },
    {
     "name": "stdout",
     "output_type": "stream",
     "text": [
      "\n",
      "Mean fidelity: 0.902473065612368\n",
      "Q value is: 0.6906775510204082\n",
      "\n",
      "\n",
      "Running time: 1.9000000000000008\n"
     ]
    },
    {
     "data": {
      "application/vnd.jupyter.widget-view+json": {
       "model_id": "6086e20a0d904bc1994e82d55770646c",
       "version_major": 2,
       "version_minor": 0
      },
      "text/plain": [
       "HBox(children=(IntProgress(value=0, max=35), HTML(value='')))"
      ]
     },
     "metadata": {},
     "output_type": "display_data"
    },
    {
     "name": "stdout",
     "output_type": "stream",
     "text": [
      "\n",
      "Mean fidelity: 0.929523083085547\n",
      "Q value is: 0.7034122448979592\n",
      "\n",
      "\n",
      "Running time: 2.000000000000001\n"
     ]
    },
    {
     "data": {
      "application/vnd.jupyter.widget-view+json": {
       "model_id": "41624a23fa0d4500a22bbd5a6f0978ff",
       "version_major": 2,
       "version_minor": 0
      },
      "text/plain": [
       "HBox(children=(IntProgress(value=0, max=35), HTML(value='')))"
      ]
     },
     "metadata": {},
     "output_type": "display_data"
    },
    {
     "name": "stdout",
     "output_type": "stream",
     "text": [
      "\n",
      "Mean fidelity: 0.9517876338650197\n",
      "Q value is: 0.7320163265306124\n",
      "\n",
      "\n",
      "Running time: 2.100000000000001\n"
     ]
    },
    {
     "data": {
      "application/vnd.jupyter.widget-view+json": {
       "model_id": "cf29d6e75b514f7a8d37eb9820133bc6",
       "version_major": 2,
       "version_minor": 0
      },
      "text/plain": [
       "HBox(children=(IntProgress(value=0, max=35), HTML(value='')))"
      ]
     },
     "metadata": {},
     "output_type": "display_data"
    },
    {
     "name": "stdout",
     "output_type": "stream",
     "text": [
      "\n",
      "Mean fidelity: 0.9688846111358095\n",
      "Q value is: 0.7546775510204081\n",
      "\n",
      "\n",
      "Running time: 2.200000000000001\n"
     ]
    },
    {
     "data": {
      "application/vnd.jupyter.widget-view+json": {
       "model_id": "2c06145a7dba4ff8a9dda6534f90f36d",
       "version_major": 2,
       "version_minor": 0
      },
      "text/plain": [
       "HBox(children=(IntProgress(value=0, max=35), HTML(value='')))"
      ]
     },
     "metadata": {},
     "output_type": "display_data"
    },
    {
     "name": "stdout",
     "output_type": "stream",
     "text": [
      "\n",
      "Mean fidelity: 0.9825505949279637\n",
      "Q value is: 0.7538285714285715\n",
      "\n",
      "\n",
      "Running time: 2.300000000000001\n"
     ]
    },
    {
     "data": {
      "application/vnd.jupyter.widget-view+json": {
       "model_id": "a6d0bd468b2b4ecd84e559915ef53687",
       "version_major": 2,
       "version_minor": 0
      },
      "text/plain": [
       "HBox(children=(IntProgress(value=0, max=35), HTML(value='')))"
      ]
     },
     "metadata": {},
     "output_type": "display_data"
    },
    {
     "name": "stdout",
     "output_type": "stream",
     "text": [
      "\n",
      "Mean fidelity: 0.9918833657462209\n",
      "Q value is: 0.7795591836734695\n",
      "\n",
      "\n",
      "Running time: 2.4000000000000012\n"
     ]
    },
    {
     "data": {
      "application/vnd.jupyter.widget-view+json": {
       "model_id": "a1631d7a9a044e768f3d10d3fb947dd3",
       "version_major": 2,
       "version_minor": 0
      },
      "text/plain": [
       "HBox(children=(IntProgress(value=0, max=35), HTML(value='')))"
      ]
     },
     "metadata": {},
     "output_type": "display_data"
    },
    {
     "name": "stdout",
     "output_type": "stream",
     "text": [
      "\n",
      "Mean fidelity: 0.996901772983636\n",
      "Q value is: 0.803526530612245\n",
      "\n",
      "\n",
      "Running time: 2.5000000000000013\n"
     ]
    },
    {
     "data": {
      "application/vnd.jupyter.widget-view+json": {
       "model_id": "8ef7f9fce7114ba0b259468fc0032366",
       "version_major": 2,
       "version_minor": 0
      },
      "text/plain": [
       "HBox(children=(IntProgress(value=0, max=35), HTML(value='')))"
      ]
     },
     "metadata": {},
     "output_type": "display_data"
    },
    {
     "name": "stdout",
     "output_type": "stream",
     "text": [
      "\n",
      "Mean fidelity: 0.9989380302073154\n",
      "Q value is: 0.842644897959184\n",
      "\n",
      "\n",
      "Running time: 2.6000000000000014\n"
     ]
    },
    {
     "data": {
      "application/vnd.jupyter.widget-view+json": {
       "model_id": "00fc6ffbb5954272bd21c7ad6a6a7f1b",
       "version_major": 2,
       "version_minor": 0
      },
      "text/plain": [
       "HBox(children=(IntProgress(value=0, max=35), HTML(value='')))"
      ]
     },
     "metadata": {},
     "output_type": "display_data"
    },
    {
     "name": "stdout",
     "output_type": "stream",
     "text": [
      "\n",
      "Mean fidelity: 0.9994575171304401\n",
      "Q value is: 0.8715755102040817\n",
      "\n",
      "\n",
      "Running time: 2.7000000000000015\n"
     ]
    },
    {
     "data": {
      "application/vnd.jupyter.widget-view+json": {
       "model_id": "e47a17f5b1e34046964442c255d082b4",
       "version_major": 2,
       "version_minor": 0
      },
      "text/plain": [
       "HBox(children=(IntProgress(value=0, max=35), HTML(value='')))"
      ]
     },
     "metadata": {},
     "output_type": "display_data"
    },
    {
     "name": "stdout",
     "output_type": "stream",
     "text": [
      "\n",
      "Mean fidelity: 0.9995689341151222\n",
      "Q value is: 0.9175510204081633\n",
      "\n",
      "\n",
      "Running time: 2.8000000000000016\n"
     ]
    },
    {
     "data": {
      "application/vnd.jupyter.widget-view+json": {
       "model_id": "1498f6b855a64ca9970bc850ab08105c",
       "version_major": 2,
       "version_minor": 0
      },
      "text/plain": [
       "HBox(children=(IntProgress(value=0, max=35), HTML(value='')))"
      ]
     },
     "metadata": {},
     "output_type": "display_data"
    },
    {
     "name": "stdout",
     "output_type": "stream",
     "text": [
      "\n",
      "Mean fidelity: 0.9995102427734919\n",
      "Q value is: 0.9334857142857144\n",
      "\n",
      "\n",
      "Running time: 2.9000000000000017\n"
     ]
    },
    {
     "data": {
      "application/vnd.jupyter.widget-view+json": {
       "model_id": "06ee8bf3ca3a420983b3ccd6db6a54e4",
       "version_major": 2,
       "version_minor": 0
      },
      "text/plain": [
       "HBox(children=(IntProgress(value=0, max=35), HTML(value='')))"
      ]
     },
     "metadata": {},
     "output_type": "display_data"
    },
    {
     "name": "stdout",
     "output_type": "stream",
     "text": [
      "\n",
      "Mean fidelity: 0.9995262370297786\n",
      "Q value is: 0.9560163265306122\n",
      "\n",
      "\n",
      "Running time: 3.0000000000000018\n"
     ]
    },
    {
     "data": {
      "application/vnd.jupyter.widget-view+json": {
       "model_id": "977f0aea09d64981a1105d649549cb50",
       "version_major": 2,
       "version_minor": 0
      },
      "text/plain": [
       "HBox(children=(IntProgress(value=0, max=35), HTML(value='')))"
      ]
     },
     "metadata": {},
     "output_type": "display_data"
    },
    {
     "name": "stdout",
     "output_type": "stream",
     "text": [
      "\n",
      "Mean fidelity: 0.9994823806655321\n",
      "Q value is: 0.9632653061224489\n",
      "\n",
      "\n",
      "Running time: 3.100000000000002\n"
     ]
    },
    {
     "data": {
      "application/vnd.jupyter.widget-view+json": {
       "model_id": "6ea9fe9462154caf822fdbe447ea1d84",
       "version_major": 2,
       "version_minor": 0
      },
      "text/plain": [
       "HBox(children=(IntProgress(value=0, max=35), HTML(value='')))"
      ]
     },
     "metadata": {},
     "output_type": "display_data"
    },
    {
     "name": "stdout",
     "output_type": "stream",
     "text": [
      "\n",
      "Mean fidelity: 0.9992893681421462\n",
      "Q value is: 0.9652897959183672\n",
      "\n",
      "\n",
      "Running time: 3.200000000000002\n"
     ]
    },
    {
     "data": {
      "application/vnd.jupyter.widget-view+json": {
       "model_id": "caa1cd36d26d4bad805e24026e8700ee",
       "version_major": 2,
       "version_minor": 0
      },
      "text/plain": [
       "HBox(children=(IntProgress(value=0, max=35), HTML(value='')))"
      ]
     },
     "metadata": {},
     "output_type": "display_data"
    },
    {
     "name": "stdout",
     "output_type": "stream",
     "text": [
      "\n",
      "Mean fidelity: 0.9992212330684697\n",
      "Q value is: 0.9711020408163266\n",
      "\n",
      "\n",
      "Running time: 3.300000000000002\n"
     ]
    },
    {
     "data": {
      "application/vnd.jupyter.widget-view+json": {
       "model_id": "5f683703b6a847759e439906839cb7cb",
       "version_major": 2,
       "version_minor": 0
      },
      "text/plain": [
       "HBox(children=(IntProgress(value=0, max=35), HTML(value='')))"
      ]
     },
     "metadata": {},
     "output_type": "display_data"
    },
    {
     "name": "stdout",
     "output_type": "stream",
     "text": [
      "\n",
      "Mean fidelity: 0.9992913614270591\n",
      "Q value is: 0.9656816326530613\n",
      "\n",
      "\n",
      "Running time: 3.400000000000002\n"
     ]
    },
    {
     "data": {
      "application/vnd.jupyter.widget-view+json": {
       "model_id": "4d0d2d3a70af41a58d47018d4ee49af3",
       "version_major": 2,
       "version_minor": 0
      },
      "text/plain": [
       "HBox(children=(IntProgress(value=0, max=35), HTML(value='')))"
      ]
     },
     "metadata": {},
     "output_type": "display_data"
    },
    {
     "name": "stdout",
     "output_type": "stream",
     "text": [
      "\n",
      "Mean fidelity: 0.9992446810808147\n",
      "Q value is: 0.9652897959183673\n",
      "\n",
      "\n",
      "Running time: 3.500000000000002\n"
     ]
    },
    {
     "data": {
      "application/vnd.jupyter.widget-view+json": {
       "model_id": "3deed7195df44bbd85b450bea5e6b442",
       "version_major": 2,
       "version_minor": 0
      },
      "text/plain": [
       "HBox(children=(IntProgress(value=0, max=35), HTML(value='')))"
      ]
     },
     "metadata": {},
     "output_type": "display_data"
    },
    {
     "name": "stdout",
     "output_type": "stream",
     "text": [
      "\n",
      "Mean fidelity: 0.999123202546353\n",
      "Q value is: 0.9732571428571428\n",
      "\n",
      "\n",
      "Running time: 3.6000000000000023\n"
     ]
    },
    {
     "data": {
      "application/vnd.jupyter.widget-view+json": {
       "model_id": "fe5faecf3d7340d1aea4c2a6c8eec36f",
       "version_major": 2,
       "version_minor": 0
      },
      "text/plain": [
       "HBox(children=(IntProgress(value=0, max=35), HTML(value='')))"
      ]
     },
     "metadata": {},
     "output_type": "display_data"
    },
    {
     "name": "stdout",
     "output_type": "stream",
     "text": [
      "\n",
      "Mean fidelity: 0.9991142429981504\n",
      "Q value is: 0.9683591836734692\n",
      "\n",
      "\n",
      "Running time: 3.7000000000000024\n"
     ]
    },
    {
     "data": {
      "application/vnd.jupyter.widget-view+json": {
       "model_id": "e6190254b1f243439b759407a8447b56",
       "version_major": 2,
       "version_minor": 0
      },
      "text/plain": [
       "HBox(children=(IntProgress(value=0, max=35), HTML(value='')))"
      ]
     },
     "metadata": {},
     "output_type": "display_data"
    },
    {
     "name": "stdout",
     "output_type": "stream",
     "text": [
      "\n",
      "Mean fidelity: 0.9761805403193152\n",
      "Q value is: 0.9641142857142857\n",
      "\n",
      "\n",
      "Running time: 3.8000000000000025\n"
     ]
    },
    {
     "data": {
      "application/vnd.jupyter.widget-view+json": {
       "model_id": "0ed7f77b57a34c058c9f2241d07b99e9",
       "version_major": 2,
       "version_minor": 0
      },
      "text/plain": [
       "HBox(children=(IntProgress(value=0, max=35), HTML(value='')))"
      ]
     },
     "metadata": {},
     "output_type": "display_data"
    },
    {
     "name": "stdout",
     "output_type": "stream",
     "text": [
      "\n",
      "Mean fidelity: 0.9989807320296288\n",
      "Q value is: 0.9710367346938774\n",
      "\n",
      "\n",
      "Running time: 3.9000000000000026\n"
     ]
    },
    {
     "data": {
      "application/vnd.jupyter.widget-view+json": {
       "model_id": "5c4bf53729d942458a0c67471764c341",
       "version_major": 2,
       "version_minor": 0
      },
      "text/plain": [
       "HBox(children=(IntProgress(value=0, max=35), HTML(value='')))"
      ]
     },
     "metadata": {},
     "output_type": "display_data"
    },
    {
     "name": "stdout",
     "output_type": "stream",
     "text": [
      "\n",
      "Mean fidelity: 0.9987644908608713\n",
      "Q value is: 0.9621551020408162\n",
      "\n",
      "\n",
      "Running time: 4.000000000000003\n"
     ]
    },
    {
     "data": {
      "application/vnd.jupyter.widget-view+json": {
       "model_id": "695ed565f67040b99fad0dc87448aa2b",
       "version_major": 2,
       "version_minor": 0
      },
      "text/plain": [
       "HBox(children=(IntProgress(value=0, max=35), HTML(value='')))"
      ]
     },
     "metadata": {},
     "output_type": "display_data"
    },
    {
     "name": "stdout",
     "output_type": "stream",
     "text": [
      "\n",
      "Mean fidelity: 0.9764087212829563\n",
      "Q value is: 0.9609142857142858\n",
      "\n",
      "\n"
     ]
    }
   ],
   "source": [
    "#UNCOMMENT TO RUN\n",
    "print(\"WARNING! Attenzione a non sovrascrivere\")\n",
    "\n",
    "#save run parameters and date in custom named folder\n",
    "#os.chdir(\"C:\\Users\\GUIDA\\Desktop\\CODE_MONTANGERO\\SD_WITH_REPLACEMENT\")\n",
    "custom_name_dir = \"final_data_fixed_nsteps\"\n",
    "os.system(\"mkdir \"+custom_name_dir)\n",
    "os.system(\"mkdir \"+custom_name_dir+\"/protocols\")\n",
    "params_df.to_csv(custom_name_dir+\"/parameters.csv\")\n",
    "\n",
    "intermediete_result = True\n",
    "\n",
    "for T in times:\n",
    "    temp_fid = []\n",
    "    best_prot = []\n",
    "    print(\"Running time:\", T)\n",
    "    for _ in tnrange(iter_for_each_time):\n",
    "\n",
    "        best_protocol, fidelity = stochastic_descent(qstart, qtarget, L, T, nsteps, \n",
    "                        field_list = h_list, verbose = True, check_norm = True)\n",
    "\n",
    "        temp_fid.append(fidelity[-1]) #at fixed T we will have \"iter_for_each_time\" evaluations of fidelity\n",
    "        best_prot.append(best_protocol) #all iter_for_each_time best protocols are stored in this variable \n",
    "                                        #and saved when new rounf over T starts\n",
    "    fidelity_for_txt.append(temp_fid) #fidelity evaluations are stored in the same \"fidelity_fot_txt\"\n",
    "                                      #variable that will have dimension len(times)*iter_for_each_time\n",
    "    best_prot = np.array([best_prot])\n",
    "    with open(custom_name_dir +'/protocols/testT'+str(round(T, 2))+'.npy', 'wb') as f:\n",
    "        np.save(f,best_prot)\n",
    "    f.close()\n",
    "    \n",
    "    if intermediete_result and T !=0: #if T = 0 q cannot be computed\n",
    "        data = np.load(custom_name_dir +'/protocols/testT'+str(round(T, 3))+'.npy')[0,:,:] #first dimension is redundant \n",
    "        print(\"Mean fidelity:\", np.array(temp_fid).mean())\n",
    "        print(\"Q value is:\", correlation(data, h))\n",
    "        print(\"\\n\")\n",
    "        \n",
    "#fidelity values are saved at the end\n",
    "np.savetxt(custom_name_dir + '/fidelity_SD.txt', fidelity_for_txt, delimiter = ',',header=\"Matrix with as entries the values of fidelity dimension times x iterations\")\n"
   ]
  },
  {
   "cell_type": "code",
   "execution_count": 11,
   "metadata": {
    "ExecuteTime": {
     "end_time": "2020-10-30T15:56:36.470231Z",
     "start_time": "2020-10-30T15:56:35.765197Z"
    }
   },
   "outputs": [
    {
     "data": {
      "image/png": "[encoded data removed]",
      "text/plain": [
       "<Figure size 720x504 with 1 Axes>"
      ]
     },
     "metadata": {
      "needs_background": "light"
     },
     "output_type": "display_data"
    }
   ],
   "source": [
    "#PLOT \n",
    "#os.chdir(\"C:\\Users\\GUIDA\\Desktop\\CODE_MONTANGERO\\SD_WITH_REPLACEMENT\")\n",
    "q=[]\n",
    "for T in times[1:]:\n",
    "    data = np.load(custom_name_dir +\"/protocols/testT\"+str(round(T, 2))+\".npy\")[0,:,:] #first dimension is redundant \n",
    "    #!warning: correlation normalization term musb be changed according to field values\n",
    "    q.append(correlation(data,h))\n",
    "    \n",
    "loaded_fidelity = pd.read_csv(custom_name_dir +'/fidelity_SD.txt', skiprows=1,header=None)\n",
    "\n",
    "q[0]=0\n",
    "fig, ax = plt.subplots(figsize=(10,7))\n",
    "#plot Fidelity values\n",
    "ax.errorbar(times,loaded_fidelity.mean(axis=1).values, yerr=loaded_fidelity.std(axis=1).values, color=\"r\")\n",
    "ax.scatter(times,loaded_fidelity.mean(axis=1).values,color='r',label=\"Fidelity\")\n",
    "#plot Q values\n",
    "ax.plot(times[1:], q, marker=\"o\", color=\"goldenrod\", markersize=7, label=\"q(T)\")\n",
    "ax.vlines(0.5,-0.05,1.05, color=\"b\", linestyle=\"-.\")\n",
    "ax.vlines(2.4,-0.05,1.05, color=\"b\", linestyle=\"-.\")\n",
    "ax.set_ylim(-0.05,1.05)\n",
    "ax.set_title(r\"Phase Diagram\"+\"\\n\"+\"Iterations for Each Point = \"+str(iter_for_each_time), fontsize=18)\n",
    "ax.set_xlabel(\"T [a.u.]\", fontsize=18)\n",
    "ax.tick_params(axis='both', which='major', labelsize=14)\n",
    "ax.legend(fontsize=13, loc=5)\n",
    "ax.grid()\n",
    "fig.tight_layout()\n",
    "fig.savefig(\"phase_diagram_final.pdf\")\n",
    "plt.show()"
   ]
  },
  {
   "cell_type": "code",
   "execution_count": null,
   "metadata": {},
   "outputs": [],
   "source": []
  },
  {
   "cell_type": "code",
   "execution_count": null,
   "metadata": {},
   "outputs": [],
   "source": []
  }
 ],
 "metadata": {
  "kernelspec": {
   "display_name": "Python 3",
   "language": "python",
   "name": "python3"
  },
  "language_info": {
   "codemirror_mode": {
    "name": "ipython",
    "version": 3
   },
   "file_extension": ".py",
   "mimetype": "text/x-python",
   "name": "python",
   "nbconvert_exporter": "python",
   "pygments_lexer": "ipython3",
   "version": "3.7.3"
  },
  "latex_envs": {
   "LaTeX_envs_menu_present": true,
   "autoclose": false,
   "autocomplete": true,
   "bibliofile": "biblio.bib",
   "cite_by": "apalike",
   "current_citInitial": 1,
   "eqLabelWithNumbers": true,
   "eqNumInitial": 1,
   "hotkeys": {
    "equation": "Ctrl-E",
    "itemize": "Ctrl-I"
   },
   "labels_anchors": false,
   "latex_user_defs": false,
   "report_style_numbering": false,
   "user_envs_cfg": false
  },
  "toc": {
   "base_numbering": 1,
   "nav_menu": {},
   "number_sections": true,
   "sideBar": true,
   "skip_h1_title": false,
   "title_cell": "Table of Contents",
   "title_sidebar": "Contents",
   "toc_cell": false,
   "toc_position": {},
   "toc_section_display": true,
   "toc_window_display": false
  }
 },
 "nbformat": 4,
 "nbformat_minor": 2
}

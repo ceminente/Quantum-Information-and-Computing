{
 "cells": [
  {
   "cell_type": "code",
   "execution_count": 1,
   "metadata": {
    "ExecuteTime": {
     "end_time": "2020-10-30T21:20:39.992754Z",
     "start_time": "2020-10-30T21:20:38.113320Z"
    }
   },
   "outputs": [],
   "source": [
    "import numpy as np\n",
    "import pandas as pd\n",
    "import matplotlib.pyplot as plt\n",
    "from tqdm import tqdm,tnrange\n",
    "from SD import stochastic_descent\n",
    "\n",
    "'''from quantum_state import i,hamiltonian_LA\n",
    "from quantum_state import i, evolution_from_protocol, spectral_time_evolution, compute_fidelity\n",
    "from qutip import basis, Bloch\n",
    "from gif import qutip_qstate\n",
    "from Qmodel import quantum_model\n",
    "'''\n",
    "\n",
    "import os\n",
    "import pandas as pd"
   ]
  },
  {
   "cell_type": "code",
   "execution_count": 2,
   "metadata": {
    "ExecuteTime": {
     "end_time": "2020-10-30T21:20:40.005292Z",
     "start_time": "2020-10-30T21:20:39.995316Z"
    }
   },
   "outputs": [],
   "source": [
    "def correlation(matrix,h):\n",
    "    '''\n",
    "    Given a matrix this function computes the correlation quantity Q(T) as in the paper.\n",
    "    Matrix must have dimension (n_protocols,lenght_of_protocol)    \n",
    "    '''\n",
    "    n_row = matrix.shape[0]\n",
    "    n_col = matrix.shape[1] \n",
    "    \n",
    "    mean_hx = np.array([matrix[:,i].mean() for i in range(n_col)]) #mean over all protocols at fixed time\n",
    "    avg_over_h = np.array([np.array([ (matrix[i,j]-mean_hx[j])**2 for i in range(n_row)]).sum()/n_row for j in range(n_col)])\n",
    "    avg_over_Nt = (1/((h*h)*n_col))*(avg_over_h.sum())\n",
    "    return  avg_over_Nt"
   ]
  },
  {
   "cell_type": "code",
   "execution_count": 3,
   "metadata": {
    "ExecuteTime": {
     "end_time": "2020-10-30T21:20:40.818828Z",
     "start_time": "2020-10-30T21:20:40.806859Z"
    }
   },
   "outputs": [
    {
     "name": "stdout",
     "output_type": "stream",
     "text": [
      "qstart [-0.85065081+0.j  0.52573111+0.j]\n"
     ]
    }
   ],
   "source": [
    "#Starting qstates and their normalization\n",
    "qstart = np.array([-1/2 - (np.sqrt(5))/2 ,1], dtype=complex)\n",
    "qtarget = np.array([+1/2 + (np.sqrt(5))/2 ,1], dtype=complex)\n",
    "qstart=qstart/np.sqrt(np.vdot(qstart,qstart))\n",
    "qtarget=qtarget/np.sqrt(np.vdot(qtarget,qtarget))\n",
    "print(\"qstart\",qstart)"
   ]
  },
  {
   "cell_type": "code",
   "execution_count": 4,
   "metadata": {
    "ExecuteTime": {
     "end_time": "2020-10-30T21:20:42.203244Z",
     "start_time": "2020-10-30T21:20:42.177312Z"
    }
   },
   "outputs": [
    {
     "name": "stdout",
     "output_type": "stream",
     "text": [
      "-------------PARAMETERS for SD---------------\n",
      "Number of qubits (L): 1\n",
      "Magnetic fields(h): 4\n",
      "Timesteps (dt): 0.005\n",
      "Iterations: 1000\n",
      "Percentage of flips: 1\n",
      "Exp decays of flips: False\n",
      "Metropolis: False\n",
      "\n",
      "\n",
      "\n",
      "\n",
      "--------------PARAMETERS for Plotting-------------\n",
      "Timegrid: [0.  0.1 0.2 0.3 0.4 0.5 0.6 0.7 0.8 0.9 1.  1.1 1.2 1.3 1.4 1.5 1.6 1.7\n",
      " 1.8 1.9 2.  2.1 2.2 2.3 2.4 2.5 2.6 2.7 2.8 2.9 3.  3.1 3.2 3.3 3.4 3.5\n",
      " 3.6 3.7 3.8 3.9 4. ]\n",
      "Repetition at each timestep: 20\n",
      "\n",
      "\n"
     ]
    }
   ],
   "source": [
    "#SD parameters\n",
    "L = 1\n",
    "h = 4\n",
    "h_list = [-h,h]\n",
    "dt = 0.005\n",
    "#nsteps = int(100)\n",
    "iterations = int(1e3)\n",
    "percentage_flips = 1\n",
    "exp_decay = False\n",
    "metropolis = False\n",
    "\n",
    "print(\"-------------PARAMETERS for SD---------------\")\n",
    "print(\"Number of qubits (L):\", L)\n",
    "print(\"Magnetic fields(h):\", h)\n",
    "print(\"Timesteps (dt):\", dt)\n",
    "print(\"Iterations:\", iterations)\n",
    "print(\"Percentage of flips:\", percentage_flips)\n",
    "print(\"Exp decays of flips:\", exp_decay)\n",
    "print(\"Metropolis:\", metropolis)\n",
    "print(\"\\n\")\n",
    "print(\"\\n\")\n",
    "\n",
    "#parameters for Fig. pag 2 ---- Calculation of fidelity and Q(T)\n",
    "#step_in_time_grid = 0.1\n",
    "times_first_part=np.arange(0,1,0.1)\n",
    "times_second_part=np.arange(1,4.1,0.1)\n",
    "times=np.concatenate([times_first_part,times_second_part])\n",
    "#times = np.arange(0,4,0.1)#+step_in_time_grid,step=step_in_time_grid)\n",
    "iter_for_each_time = 20\n",
    "\n",
    "fidelity_for_txt = []\n",
    "print(\"--------------PARAMETERS for Plotting-------------\")\n",
    "print(\"Timegrid:\", times)\n",
    "print(\"Repetition at each timestep:\", iter_for_each_time)\n",
    "print(\"\\n\")\n",
    "\n",
    "params_dict = {\"L\":L, \"h\":h, \"iterations\":iterations, \"percentage_flips\":percentage_flips, \n",
    "               \"exp_decay\":exp_decay, \"metropolis\":metropolis, \"times\":times, \"iter_for_each_time\": iter_for_each_time}\n",
    "params_df = pd.DataFrame.from_dict(params_dict, orient=\"index\")"
   ]
  },
  {
   "cell_type": "code",
   "execution_count": 5,
   "metadata": {
    "ExecuteTime": {
     "end_time": "2020-10-30T15:47:51.044428Z",
     "start_time": "2020-10-30T14:50:26.785424Z"
    },
    "code_folding": [],
    "scrolled": true
   },
   "outputs": [
    {
     "name": "stdout",
     "output_type": "stream",
     "text": [
      "WARNING! Attenzione a non sovrascrivere\n",
      "Running time: 0.1\n"
     ]
    },
    {
     "data": {
      "application/vnd.jupyter.widget-view+json": {
       "model_id": "0ba73e0e1d44409f8d6b88d0a92a24ea",
       "version_major": 2,
       "version_minor": 0
      },
      "text/plain": [
       "HBox(children=(IntProgress(value=0, max=20), HTML(value='')))"
      ]
     },
     "metadata": {},
     "output_type": "display_data"
    },
    {
     "name": "stdout",
     "output_type": "stream",
     "text": [
      "\n",
      "Mean fidelity: 0.2059326134542155\n",
      "Q value is: 0.099\n",
      "\n",
      "\n",
      "Running time: 0.2\n"
     ]
    },
    {
     "data": {
      "application/vnd.jupyter.widget-view+json": {
       "model_id": "133eaf83247146d3bb31ae32752266b2",
       "version_major": 2,
       "version_minor": 0
      },
      "text/plain": [
       "HBox(children=(IntProgress(value=0, max=20), HTML(value='')))"
      ]
     },
     "metadata": {},
     "output_type": "display_data"
    },
    {
     "name": "stdout",
     "output_type": "stream",
     "text": [
      "\n",
      "Mean fidelity: 0.22345528137742993\n",
      "Q value is: 0.049500000000000016\n",
      "\n",
      "\n",
      "Running time: 0.30000000000000004\n"
     ]
    },
    {
     "data": {
      "application/vnd.jupyter.widget-view+json": {
       "model_id": "d1eb3c8b22b04a418bc82ea71ab24456",
       "version_major": 2,
       "version_minor": 0
      },
      "text/plain": [
       "HBox(children=(IntProgress(value=0, max=20), HTML(value='')))"
      ]
     },
     "metadata": {},
     "output_type": "display_data"
    },
    {
     "name": "stdout",
     "output_type": "stream",
     "text": [
      "\n",
      "Mean fidelity: 0.2513571588338014\n",
      "Q value is: 0.05833333333333335\n",
      "\n",
      "\n",
      "Running time: 0.4\n"
     ]
    },
    {
     "data": {
      "application/vnd.jupyter.widget-view+json": {
       "model_id": "650eceecc7c74593aa598c0ddd45bdd6",
       "version_major": 2,
       "version_minor": 0
      },
      "text/plain": [
       "HBox(children=(IntProgress(value=0, max=20), HTML(value='')))"
      ]
     },
     "metadata": {},
     "output_type": "display_data"
    },
    {
     "name": "stdout",
     "output_type": "stream",
     "text": [
      "\n",
      "Mean fidelity: 0.2880170614306152\n",
      "Q value is: 0.05825\n",
      "\n",
      "\n",
      "Running time: 0.5\n"
     ]
    },
    {
     "data": {
      "application/vnd.jupyter.widget-view+json": {
       "model_id": "e2d8f079938c412ba52b6eeabb1eebb7",
       "version_major": 2,
       "version_minor": 0
      },
      "text/plain": [
       "HBox(children=(IntProgress(value=0, max=20), HTML(value='')))"
      ]
     },
     "metadata": {},
     "output_type": "display_data"
    },
    {
     "name": "stdout",
     "output_type": "stream",
     "text": [
      "\n",
      "Mean fidelity: 0.3311674803022734\n",
      "Q value is: 0.06820000000000001\n",
      "\n",
      "\n",
      "Running time: 0.6000000000000001\n"
     ]
    },
    {
     "data": {
      "application/vnd.jupyter.widget-view+json": {
       "model_id": "eb4b9c3df629469381662558616521a6",
       "version_major": 2,
       "version_minor": 0
      },
      "text/plain": [
       "HBox(children=(IntProgress(value=0, max=20), HTML(value='')))"
      ]
     },
     "metadata": {},
     "output_type": "display_data"
    },
    {
     "name": "stdout",
     "output_type": "stream",
     "text": [
      "\n",
      "Mean fidelity: 0.37835912142880884\n",
      "Q value is: 0.108\n",
      "\n",
      "\n",
      "Running time: 0.7000000000000001\n"
     ]
    },
    {
     "data": {
      "application/vnd.jupyter.widget-view+json": {
       "model_id": "60dbbff8dcdf43d0956df4b6489f898c",
       "version_major": 2,
       "version_minor": 0
      },
      "text/plain": [
       "HBox(children=(IntProgress(value=0, max=20), HTML(value='')))"
      ]
     },
     "metadata": {},
     "output_type": "display_data"
    },
    {
     "name": "stdout",
     "output_type": "stream",
     "text": [
      "\n",
      "Mean fidelity: 0.42744079892546205\n",
      "Q value is: 0.15742857142857142\n",
      "\n",
      "\n",
      "Running time: 0.8\n"
     ]
    },
    {
     "data": {
      "application/vnd.jupyter.widget-view+json": {
       "model_id": "0a2fd692e41c450586e879b4a9f2b765",
       "version_major": 2,
       "version_minor": 0
      },
      "text/plain": [
       "HBox(children=(IntProgress(value=0, max=20), HTML(value='')))"
      ]
     },
     "metadata": {},
     "output_type": "display_data"
    },
    {
     "name": "stdout",
     "output_type": "stream",
     "text": [
      "\n",
      "Mean fidelity: 0.477108512285118\n",
      "Q value is: 0.23687500000000006\n",
      "\n",
      "\n",
      "Running time: 0.9\n"
     ]
    },
    {
     "data": {
      "application/vnd.jupyter.widget-view+json": {
       "model_id": "73834a9d8e12419e9711aab09ecdbfaa",
       "version_major": 2,
       "version_minor": 0
      },
      "text/plain": [
       "HBox(children=(IntProgress(value=0, max=20), HTML(value='')))"
      ]
     },
     "metadata": {},
     "output_type": "display_data"
    },
    {
     "name": "stdout",
     "output_type": "stream",
     "text": [
      "\n",
      "Mean fidelity: 0.5269148058797922\n",
      "Q value is: 0.3224444444444445\n",
      "\n",
      "\n",
      "Running time: 1.0\n"
     ]
    },
    {
     "data": {
      "application/vnd.jupyter.widget-view+json": {
       "model_id": "38384dd49c2c4a7895d75a98d42f11d9",
       "version_major": 2,
       "version_minor": 0
      },
      "text/plain": [
       "HBox(children=(IntProgress(value=0, max=20), HTML(value='')))"
      ]
     },
     "metadata": {},
     "output_type": "display_data"
    },
    {
     "name": "stdout",
     "output_type": "stream",
     "text": [
      "\n",
      "Mean fidelity: 0.5766421275337253\n",
      "Q value is: 0.3779\n",
      "\n",
      "\n",
      "Running time: 1.1\n"
     ]
    },
    {
     "data": {
      "application/vnd.jupyter.widget-view+json": {
       "model_id": "f607e0d7b7f14d4687ab0726a2cd0ec4",
       "version_major": 2,
       "version_minor": 0
      },
      "text/plain": [
       "HBox(children=(IntProgress(value=0, max=20), HTML(value='')))"
      ]
     },
     "metadata": {},
     "output_type": "display_data"
    },
    {
     "name": "stdout",
     "output_type": "stream",
     "text": [
      "\n",
      "Mean fidelity: 0.6255754684119113\n",
      "Q value is: 0.4150909090909091\n",
      "\n",
      "\n",
      "Running time: 1.2000000000000002\n"
     ]
    },
    {
     "data": {
      "application/vnd.jupyter.widget-view+json": {
       "model_id": "1101fd1c7f98453c8e79b617cf70a072",
       "version_major": 2,
       "version_minor": 0
      },
      "text/plain": [
       "HBox(children=(IntProgress(value=0, max=20), HTML(value='')))"
      ]
     },
     "metadata": {},
     "output_type": "display_data"
    },
    {
     "name": "stdout",
     "output_type": "stream",
     "text": [
      "\n",
      "Mean fidelity: 0.6731606898452667\n",
      "Q value is: 0.4595\n",
      "\n",
      "\n",
      "Running time: 1.3000000000000003\n"
     ]
    },
    {
     "data": {
      "application/vnd.jupyter.widget-view+json": {
       "model_id": "127b122768b9427aab661f2dc06a6c1c",
       "version_major": 2,
       "version_minor": 0
      },
      "text/plain": [
       "HBox(children=(IntProgress(value=0, max=20), HTML(value='')))"
      ]
     },
     "metadata": {},
     "output_type": "display_data"
    },
    {
     "name": "stdout",
     "output_type": "stream",
     "text": [
      "\n",
      "Mean fidelity: 0.7190884880027368\n",
      "Q value is: 0.5011538461538462\n",
      "\n",
      "\n",
      "Running time: 1.4000000000000004\n"
     ]
    },
    {
     "data": {
      "application/vnd.jupyter.widget-view+json": {
       "model_id": "a0815e9d549a47c798a09c24cd032f78",
       "version_major": 2,
       "version_minor": 0
      },
      "text/plain": [
       "HBox(children=(IntProgress(value=0, max=20), HTML(value='')))"
      ]
     },
     "metadata": {},
     "output_type": "display_data"
    },
    {
     "name": "stdout",
     "output_type": "stream",
     "text": [
      "\n",
      "Mean fidelity: 0.762737502612576\n",
      "Q value is: 0.5119285714285714\n",
      "\n",
      "\n",
      "Running time: 1.5000000000000004\n"
     ]
    },
    {
     "data": {
      "application/vnd.jupyter.widget-view+json": {
       "model_id": "dc92ed598b8a4789896f9023a7b462c8",
       "version_major": 2,
       "version_minor": 0
      },
      "text/plain": [
       "HBox(children=(IntProgress(value=0, max=20), HTML(value='')))"
      ]
     },
     "metadata": {},
     "output_type": "display_data"
    },
    {
     "name": "stdout",
     "output_type": "stream",
     "text": [
      "\n",
      "Mean fidelity: 0.8039278096530349\n",
      "Q value is: 0.5480666666666667\n",
      "\n",
      "\n",
      "Running time: 1.6000000000000005\n"
     ]
    },
    {
     "data": {
      "application/vnd.jupyter.widget-view+json": {
       "model_id": "9784bd82ae7149548b23ec8848ae2b87",
       "version_major": 2,
       "version_minor": 0
      },
      "text/plain": [
       "HBox(children=(IntProgress(value=0, max=20), HTML(value='')))"
      ]
     },
     "metadata": {},
     "output_type": "display_data"
    },
    {
     "name": "stdout",
     "output_type": "stream",
     "text": [
      "\n",
      "Mean fidelity: 0.8419651357797443\n",
      "Q value is: 0.5755\n",
      "\n",
      "\n",
      "Running time: 1.7000000000000006\n"
     ]
    },
    {
     "data": {
      "application/vnd.jupyter.widget-view+json": {
       "model_id": "5227e236323147afb8a64e986fc78172",
       "version_major": 2,
       "version_minor": 0
      },
      "text/plain": [
       "HBox(children=(IntProgress(value=0, max=20), HTML(value='')))"
      ]
     },
     "metadata": {},
     "output_type": "display_data"
    },
    {
     "name": "stdout",
     "output_type": "stream",
     "text": [
      "\n",
      "Mean fidelity: 0.8766350372327569\n",
      "Q value is: 0.5879411764705883\n",
      "\n",
      "\n",
      "Running time: 1.8000000000000007\n"
     ]
    },
    {
     "data": {
      "application/vnd.jupyter.widget-view+json": {
       "model_id": "d47be4ba6dc9410cb27ddcc978a4ab52",
       "version_major": 2,
       "version_minor": 0
      },
      "text/plain": [
       "HBox(children=(IntProgress(value=0, max=20), HTML(value='')))"
      ]
     },
     "metadata": {},
     "output_type": "display_data"
    },
    {
     "name": "stdout",
     "output_type": "stream",
     "text": [
      "\n",
      "Mean fidelity: 0.907440158351523\n",
      "Q value is: 0.599\n",
      "\n",
      "\n",
      "Running time: 1.9000000000000008\n"
     ]
    },
    {
     "data": {
      "application/vnd.jupyter.widget-view+json": {
       "model_id": "9969db334bf9409e895fb75417a78ae9",
       "version_major": 2,
       "version_minor": 0
      },
      "text/plain": [
       "HBox(children=(IntProgress(value=0, max=20), HTML(value='')))"
      ]
     },
     "metadata": {},
     "output_type": "display_data"
    },
    {
     "name": "stdout",
     "output_type": "stream",
     "text": [
      "\n",
      "Mean fidelity: 0.9342490478741527\n",
      "Q value is: 0.6320526315789474\n",
      "\n",
      "\n",
      "Running time: 2.000000000000001\n"
     ]
    },
    {
     "data": {
      "application/vnd.jupyter.widget-view+json": {
       "model_id": "5eb10aff37274d7bb293391d310a23a5",
       "version_major": 2,
       "version_minor": 0
      },
      "text/plain": [
       "HBox(children=(IntProgress(value=0, max=20), HTML(value='')))"
      ]
     },
     "metadata": {},
     "output_type": "display_data"
    },
    {
     "name": "stdout",
     "output_type": "stream",
     "text": [
      "\n",
      "Mean fidelity: 0.9567383760771111\n",
      "Q value is: 0.6429\n",
      "\n",
      "\n",
      "Running time: 2.100000000000001\n"
     ]
    },
    {
     "data": {
      "application/vnd.jupyter.widget-view+json": {
       "model_id": "13ad77ef7ce6458499b950ffd443acdf",
       "version_major": 2,
       "version_minor": 0
      },
      "text/plain": [
       "HBox(children=(IntProgress(value=0, max=20), HTML(value='')))"
      ]
     },
     "metadata": {},
     "output_type": "display_data"
    },
    {
     "name": "stdout",
     "output_type": "stream",
     "text": [
      "\n",
      "Mean fidelity: 0.9746469058395949\n",
      "Q value is: 0.6564285714285716\n",
      "\n",
      "\n",
      "Running time: 2.200000000000001\n"
     ]
    },
    {
     "data": {
      "application/vnd.jupyter.widget-view+json": {
       "model_id": "5aaae8d362ee46c99dfd1ac9588e16b0",
       "version_major": 2,
       "version_minor": 0
      },
      "text/plain": [
       "HBox(children=(IntProgress(value=0, max=20), HTML(value='')))"
      ]
     },
     "metadata": {},
     "output_type": "display_data"
    },
    {
     "name": "stdout",
     "output_type": "stream",
     "text": [
      "\n",
      "Mean fidelity: 0.9879403211670349\n",
      "Q value is: 0.6810909090909092\n",
      "\n",
      "\n",
      "Running time: 2.300000000000001\n"
     ]
    },
    {
     "data": {
      "application/vnd.jupyter.widget-view+json": {
       "model_id": "72bebeb82cec44f999fd6a733e139d5a",
       "version_major": 2,
       "version_minor": 0
      },
      "text/plain": [
       "HBox(children=(IntProgress(value=0, max=20), HTML(value='')))"
      ]
     },
     "metadata": {},
     "output_type": "display_data"
    },
    {
     "name": "stdout",
     "output_type": "stream",
     "text": [
      "\n",
      "Mean fidelity: 0.9961689138222967\n",
      "Q value is: 0.7065652173913044\n",
      "\n",
      "\n",
      "Running time: 2.4000000000000012\n"
     ]
    },
    {
     "data": {
      "application/vnd.jupyter.widget-view+json": {
       "model_id": "649c48ad21f648cd9fadc809d5ceb34a",
       "version_major": 2,
       "version_minor": 0
      },
      "text/plain": [
       "HBox(children=(IntProgress(value=0, max=20), HTML(value='')))"
      ]
     },
     "metadata": {},
     "output_type": "display_data"
    },
    {
     "name": "stdout",
     "output_type": "stream",
     "text": [
      "\n",
      "Mean fidelity: 0.9996182887838115\n",
      "Q value is: 0.7381041666666668\n",
      "\n",
      "\n",
      "Running time: 2.5000000000000013\n"
     ]
    },
    {
     "data": {
      "application/vnd.jupyter.widget-view+json": {
       "model_id": "5837fe4f2cf04293a852d3cdfd703af1",
       "version_major": 2,
       "version_minor": 0
      },
      "text/plain": [
       "HBox(children=(IntProgress(value=0, max=20), HTML(value='')))"
      ]
     },
     "metadata": {},
     "output_type": "display_data"
    },
    {
     "name": "stdout",
     "output_type": "stream",
     "text": [
      "\n",
      "Mean fidelity: 0.9999802721195863\n",
      "Q value is: 0.7835000000000001\n",
      "\n",
      "\n",
      "Running time: 2.6000000000000014\n"
     ]
    },
    {
     "data": {
      "application/vnd.jupyter.widget-view+json": {
       "model_id": "70c9e2d6bd8b47099f3f209821291672",
       "version_major": 2,
       "version_minor": 0
      },
      "text/plain": [
       "HBox(children=(IntProgress(value=0, max=20), HTML(value='')))"
      ]
     },
     "metadata": {},
     "output_type": "display_data"
    },
    {
     "name": "stdout",
     "output_type": "stream",
     "text": [
      "\n",
      "Mean fidelity: 0.999985460551445\n",
      "Q value is: 0.8474807692307694\n",
      "\n",
      "\n",
      "Running time: 2.7000000000000015\n"
     ]
    },
    {
     "data": {
      "application/vnd.jupyter.widget-view+json": {
       "model_id": "f225cfa2989740198f17f003bda16ba7",
       "version_major": 2,
       "version_minor": 0
      },
      "text/plain": [
       "HBox(children=(IntProgress(value=0, max=20), HTML(value='')))"
      ]
     },
     "metadata": {},
     "output_type": "display_data"
    },
    {
     "name": "stdout",
     "output_type": "stream",
     "text": [
      "\n",
      "Mean fidelity: 0.9999852500912437\n",
      "Q value is: 0.8808703703703705\n",
      "\n",
      "\n",
      "Running time: 2.8000000000000016\n"
     ]
    },
    {
     "data": {
      "application/vnd.jupyter.widget-view+json": {
       "model_id": "03d19aa891ea46efa76c829c8975888a",
       "version_major": 2,
       "version_minor": 0
      },
      "text/plain": [
       "HBox(children=(IntProgress(value=0, max=20), HTML(value='')))"
      ]
     },
     "metadata": {},
     "output_type": "display_data"
    },
    {
     "name": "stdout",
     "output_type": "stream",
     "text": [
      "\n",
      "Mean fidelity: 0.9999862165178905\n",
      "Q value is: 0.9073571428571429\n",
      "\n",
      "\n",
      "Running time: 2.9000000000000017\n"
     ]
    },
    {
     "data": {
      "application/vnd.jupyter.widget-view+json": {
       "model_id": "d4069205a549462e9e39b396692713a7",
       "version_major": 2,
       "version_minor": 0
      },
      "text/plain": [
       "HBox(children=(IntProgress(value=0, max=20), HTML(value='')))"
      ]
     },
     "metadata": {},
     "output_type": "display_data"
    },
    {
     "name": "stdout",
     "output_type": "stream",
     "text": [
      "\n",
      "Mean fidelity: 0.999985142641167\n",
      "Q value is: 0.9338103448275862\n",
      "\n",
      "\n",
      "Running time: 3.0000000000000018\n"
     ]
    },
    {
     "data": {
      "application/vnd.jupyter.widget-view+json": {
       "model_id": "0c87ecb1f3d746ffa4fefcf292861a6f",
       "version_major": 2,
       "version_minor": 0
      },
      "text/plain": [
       "HBox(children=(IntProgress(value=0, max=20), HTML(value='')))"
      ]
     },
     "metadata": {},
     "output_type": "display_data"
    },
    {
     "name": "stdout",
     "output_type": "stream",
     "text": [
      "\n",
      "Mean fidelity: 0.9999849013182001\n",
      "Q value is: 0.9450666666666667\n",
      "\n",
      "\n",
      "Running time: 3.100000000000002\n"
     ]
    },
    {
     "data": {
      "application/vnd.jupyter.widget-view+json": {
       "model_id": "b24e21ba084f47fc86844ae2fd8bb74f",
       "version_major": 2,
       "version_minor": 0
      },
      "text/plain": [
       "HBox(children=(IntProgress(value=0, max=20), HTML(value='')))"
      ]
     },
     "metadata": {},
     "output_type": "display_data"
    },
    {
     "name": "stdout",
     "output_type": "stream",
     "text": [
      "\n",
      "Mean fidelity: 0.9999850209902841\n",
      "Q value is: 0.9583870967741936\n",
      "\n",
      "\n",
      "Running time: 3.200000000000002\n"
     ]
    },
    {
     "data": {
      "application/vnd.jupyter.widget-view+json": {
       "model_id": "c5e303b552e44af7bbbc3e665840d5bc",
       "version_major": 2,
       "version_minor": 0
      },
      "text/plain": [
       "HBox(children=(IntProgress(value=0, max=20), HTML(value='')))"
      ]
     },
     "metadata": {},
     "output_type": "display_data"
    },
    {
     "name": "stdout",
     "output_type": "stream",
     "text": [
      "\n",
      "Mean fidelity: 0.9999824783743554\n",
      "Q value is: 0.9471406250000002\n",
      "\n",
      "\n",
      "Running time: 3.300000000000002\n"
     ]
    },
    {
     "data": {
      "application/vnd.jupyter.widget-view+json": {
       "model_id": "843105bf49a84c9f850b2d0326c58976",
       "version_major": 2,
       "version_minor": 0
      },
      "text/plain": [
       "HBox(children=(IntProgress(value=0, max=20), HTML(value='')))"
      ]
     },
     "metadata": {},
     "output_type": "display_data"
    },
    {
     "name": "stdout",
     "output_type": "stream",
     "text": [
      "\n",
      "Mean fidelity: 0.9999796620891364\n",
      "Q value is: 0.9462424242424242\n",
      "\n",
      "\n",
      "Running time: 3.400000000000002\n"
     ]
    },
    {
     "data": {
      "application/vnd.jupyter.widget-view+json": {
       "model_id": "94862ce056af48d8ba9bbd08a00e974d",
       "version_major": 2,
       "version_minor": 0
      },
      "text/plain": [
       "HBox(children=(IntProgress(value=0, max=20), HTML(value='')))"
      ]
     },
     "metadata": {},
     "output_type": "display_data"
    },
    {
     "name": "stdout",
     "output_type": "stream",
     "text": [
      "\n",
      "Mean fidelity: 0.9999762531508635\n",
      "Q value is: 0.9438529411764707\n",
      "\n",
      "\n",
      "Running time: 3.500000000000002\n"
     ]
    },
    {
     "data": {
      "application/vnd.jupyter.widget-view+json": {
       "model_id": "db01b13fe52e47ef8d663c50c35b3ee7",
       "version_major": 2,
       "version_minor": 0
      },
      "text/plain": [
       "HBox(children=(IntProgress(value=0, max=20), HTML(value='')))"
      ]
     },
     "metadata": {},
     "output_type": "display_data"
    },
    {
     "name": "stdout",
     "output_type": "stream",
     "text": [
      "\n",
      "Mean fidelity: 0.9999764619564135\n",
      "Q value is: 0.9295857142857143\n",
      "\n",
      "\n",
      "Running time: 3.6000000000000023\n"
     ]
    },
    {
     "data": {
      "application/vnd.jupyter.widget-view+json": {
       "model_id": "80bfbfd4c642487bb11f54d475b7436d",
       "version_major": 2,
       "version_minor": 0
      },
      "text/plain": [
       "HBox(children=(IntProgress(value=0, max=20), HTML(value='')))"
      ]
     },
     "metadata": {},
     "output_type": "display_data"
    },
    {
     "name": "stdout",
     "output_type": "stream",
     "text": [
      "\n",
      "Mean fidelity: 0.9999822950457429\n",
      "Q value is: 0.9226944444444447\n",
      "\n",
      "\n",
      "Running time: 3.7000000000000024\n"
     ]
    },
    {
     "data": {
      "application/vnd.jupyter.widget-view+json": {
       "model_id": "4dde5ad888ae4fb6acbcc98c051bacc3",
       "version_major": 2,
       "version_minor": 0
      },
      "text/plain": [
       "HBox(children=(IntProgress(value=0, max=20), HTML(value='')))"
      ]
     },
     "metadata": {},
     "output_type": "display_data"
    },
    {
     "name": "stdout",
     "output_type": "stream",
     "text": [
      "\n",
      "Mean fidelity: 0.9999809318754549\n",
      "Q value is: 0.9125405405405406\n",
      "\n",
      "\n",
      "Running time: 3.8000000000000025\n"
     ]
    },
    {
     "data": {
      "application/vnd.jupyter.widget-view+json": {
       "model_id": "69cf6021f4264694b93dfb2eb3718cf9",
       "version_major": 2,
       "version_minor": 0
      },
      "text/plain": [
       "HBox(children=(IntProgress(value=0, max=20), HTML(value='')))"
      ]
     },
     "metadata": {},
     "output_type": "display_data"
    },
    {
     "name": "stdout",
     "output_type": "stream",
     "text": [
      "\n",
      "Mean fidelity: 0.9999781603659097\n",
      "Q value is: 0.9122368421052632\n",
      "\n",
      "\n",
      "Running time: 3.9000000000000026\n"
     ]
    },
    {
     "data": {
      "application/vnd.jupyter.widget-view+json": {
       "model_id": "eb4b9cc013a340a29eebd9c2dacf4ac3",
       "version_major": 2,
       "version_minor": 0
      },
      "text/plain": [
       "HBox(children=(IntProgress(value=0, max=20), HTML(value='')))"
      ]
     },
     "metadata": {},
     "output_type": "display_data"
    },
    {
     "name": "stdout",
     "output_type": "stream",
     "text": [
      "\n",
      "Mean fidelity: 0.9999842669260802\n",
      "Q value is: 0.9107435897435899\n",
      "\n",
      "\n",
      "Running time: 4.000000000000003\n"
     ]
    },
    {
     "data": {
      "application/vnd.jupyter.widget-view+json": {
       "model_id": "346838c943ca404c9375d78bed67189c",
       "version_major": 2,
       "version_minor": 0
      },
      "text/plain": [
       "HBox(children=(IntProgress(value=0, max=20), HTML(value='')))"
      ]
     },
     "metadata": {},
     "output_type": "display_data"
    },
    {
     "name": "stdout",
     "output_type": "stream",
     "text": [
      "\n",
      "Mean fidelity: 0.9999839590195945\n",
      "Q value is: 0.8930375000000002\n",
      "\n",
      "\n"
     ]
    }
   ],
   "source": [
    "#UNCOMMENT TO RUN\n",
    "print(\"WARNING! Attenzione a non sovrascrivere\")\n",
    "\n",
    "#save run parameters and date in custom named folder\n",
    "#os.chdir(\"C:\\Users\\GUIDA\\Desktop\\CODE_MONTANGERO\\SD_WITH_REPLACEMENT\")\n",
    "custom_name_dir = \"data_test_new_class\"\n",
    "os.system(\"mkdir \"+custom_name_dir)\n",
    "os.system(\"mkdir \"+custom_name_dir+\"/protocols_m\")\n",
    "params_df.to_csv(custom_name_dir+\"/parameters_m.csv\")\n",
    "\n",
    "intermediete_result = True\n",
    "\n",
    "for T in times[1:]:\n",
    "    temp_fid = []\n",
    "    best_prot = []\n",
    "    print(\"Running time:\", T)\n",
    "    for _ in tnrange(iter_for_each_time):\n",
    "\n",
    "        best_protocol, fidelity = stochastic_descent(qstart, qtarget, L, T, dt, \n",
    "                        flips = percentage_flips, field_list = h_list,\n",
    "                        beta=0.6, exp_decay_flip=exp_decay,\n",
    "                        metropolis_choice=False, verbose = True, check_norm = True)\n",
    "\n",
    "        temp_fid.append(fidelity[-1]) #at fixed T we will have \"iter_for_each_time\" evaluations of fidelity\n",
    "        best_prot.append(best_protocol) #all iter_for_each_time best protocols are stored in this variable \n",
    "                                        #and saved when new rounf over T starts\n",
    "    fidelity_for_txt.append(temp_fid) #fidelity evaluations are stored in the same \"fidelity_fot_txt\"\n",
    "                                      #variable that will have dimension len(times)*iter_for_each_time\n",
    "    best_prot = np.array([best_prot])\n",
    "    with open(custom_name_dir +'/protocols_m/testT'+str(round(T, 2))+'.npy', 'wb') as f:\n",
    "        np.save(f,best_prot)\n",
    "    f.close()\n",
    "    \n",
    "    if intermediete_result and T !=0: #if T = 0 q cannot be computed\n",
    "        data = np.load(custom_name_dir +'/protocols_m/testT'+str(round(T, 3))+'.npy')[0,:,:] #first dimension is redundant \n",
    "        print(\"Mean fidelity:\", np.array(temp_fid).mean())\n",
    "        print(\"Q value is:\", correlation(data, h))\n",
    "        print(\"\\n\")\n",
    "        \n",
    "#fidelity values are saved at the end\n",
    "np.savetxt(custom_name_dir + '/fidelity_m.txt', fidelity_for_txt, delimiter = ',',header=\"Matrix with as entries the values of fidelity dimension times x iterations\")\n"
   ]
  },
  {
   "cell_type": "code",
   "execution_count": 6,
   "metadata": {
    "ExecuteTime": {
     "end_time": "2020-10-30T15:56:36.470231Z",
     "start_time": "2020-10-30T15:56:35.765197Z"
    }
   },
   "outputs": [
    {
     "data": {
      "image/png": "[encoded data removed]",
      "text/plain": [
       "<Figure size 720x504 with 1 Axes>"
      ]
     },
     "metadata": {
      "needs_background": "light"
     },
     "output_type": "display_data"
    }
   ],
   "source": [
    "#PLOT \n",
    "#os.chdir(\"C:\\Users\\GUIDA\\Desktop\\CODE_MONTANGERO\\SD_WITH_REPLACEMENT\")\n",
    "q=[]\n",
    "for T in times[1:]:\n",
    "    \n",
    "    data = np.load(custom_name_dir +\"/protocols_m/testT\"+str(round(T, 2))+\".npy\")[0,:,:] #first dimension is redundant \n",
    "    #!warning: correlation normalization term musb be changed according to field values\n",
    "    q.append(correlation(data,h))\n",
    "    \n",
    "loaded_fidelity = pd.read_csv(custom_name_dir +'/fidelity_m.txt', skiprows=1,header=None)\n",
    "#loaded_fidelity = loaded_fidelity.loc[(loaded_fidelity.index % 19 == 0) & (loaded_fidelity.index > 0)]\n",
    "\n",
    "#q[0]=0\n",
    "fig, ax = plt.subplots(figsize=(10,7))\n",
    "#plot Fidelity values\n",
    "ax.errorbar(times[1:],loaded_fidelity.mean(axis=1).values, yerr=loaded_fidelity.std(axis=1).values, color=\"r\")\n",
    "ax.scatter(times[1:],loaded_fidelity.mean(axis=1).values,color='r',label=\"Fidelity\")\n",
    "#plot Q values\n",
    "ax.plot(times[1:], q, marker=\"o\", color=\"goldenrod\", markersize=7, label=\"q(T)\")\n",
    "\n",
    "\n",
    "ax.set_title(r\"Phase Diagram\"+\"\\n\"+\"Iterations for Each Point = \"+str(iter_for_each_time), fontsize=18)\n",
    "ax.set_xlabel(\"T [a.u.]\", fontsize=18)\n",
    "#ax.set_ylabel(r\" $Fidelity$\", fontsize=18)\n",
    "ax.tick_params(axis='both', which='major', labelsize=14)\n",
    "ax.legend(fontsize=13, loc=5)\n",
    "ax.grid()\n",
    "fig.tight_layout()\n",
    "fig.savefig(\"phase_diagram.pdf\")\n",
    "plt.show()"
   ]
  },
  {
   "cell_type": "code",
   "execution_count": null,
   "metadata": {},
   "outputs": [],
   "source": []
  },
  {
   "cell_type": "code",
   "execution_count": null,
   "metadata": {},
   "outputs": [],
   "source": []
  }
 ],
 "metadata": {
  "kernelspec": {
   "display_name": "Python 3",
   "language": "python",
   "name": "python3"
  },
  "language_info": {
   "codemirror_mode": {
    "name": "ipython",
    "version": 3
   },
   "file_extension": ".py",
   "mimetype": "text/x-python",
   "name": "python",
   "nbconvert_exporter": "python",
   "pygments_lexer": "ipython3",
   "version": "3.7.3"
  },
  "latex_envs": {
   "LaTeX_envs_menu_present": true,
   "autoclose": false,
   "autocomplete": true,
   "bibliofile": "biblio.bib",
   "cite_by": "apalike",
   "current_citInitial": 1,
   "eqLabelWithNumbers": true,
   "eqNumInitial": 1,
   "hotkeys": {
    "equation": "Ctrl-E",
    "itemize": "Ctrl-I"
   },
   "labels_anchors": false,
   "latex_user_defs": false,
   "report_style_numbering": false,
   "user_envs_cfg": false
  },
  "toc": {
   "base_numbering": 1,
   "nav_menu": {},
   "number_sections": true,
   "sideBar": true,
   "skip_h1_title": false,
   "title_cell": "Table of Contents",
   "title_sidebar": "Contents",
   "toc_cell": false,
   "toc_position": {},
   "toc_section_display": true,
   "toc_window_display": false
  }
 },
 "nbformat": 4,
 "nbformat_minor": 2
}

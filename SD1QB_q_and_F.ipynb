{
 "cells": [
  {
   "cell_type": "code",
   "execution_count": 1,
   "metadata": {},
   "outputs": [],
   "source": [
    "import numpy as np\n",
    "import pandas as pd\n",
    "import matplotlib.pyplot as plt\n",
    "\n",
    "from SD import stochastic_descent\n",
    "\n",
    "from quantum_state import i\n",
    "from quantum_state import i, evolution_from_protocol, spectral_time_evolution, compute_fidelity\n",
    "from qutip import basis, Bloch\n",
    "from gif import qutip_qstate"
   ]
  },
  {
   "cell_type": "code",
   "execution_count": 2,
   "metadata": {},
   "outputs": [],
   "source": [
    "def correlation(matrix):\n",
    "    '''\n",
    "    Given a matrix this function computes the correlation quantity Q(T) as in the paper.\n",
    "    Matrix must have dimension (n_protocols,lenght_of_protocol)    \n",
    "    '''\n",
    "    n_row = matrix.shape[0]\n",
    "    n_col = matrix.shape[1] \n",
    "    \n",
    "    mean_hx = np.array([matrix[:,i].mean() for i in range(n_col)]) #mean over all protocols at fixed time\n",
    "    avg_over_h = np.array([np.array([ (matrix[i,j]-mean_hx[j])**2 for i in range(n_row)]).sum()/n_row for j in range(n_col)])\n",
    "    avg_over_Nt = (1/(16*n_col))*(avg_over_h.sum())\n",
    "    return  avg_over_Nt"
   ]
  },
  {
   "cell_type": "code",
   "execution_count": 3,
   "metadata": {},
   "outputs": [
    {
     "name": "stdout",
     "output_type": "stream",
     "text": [
      "-------------PARAMETERS for SD---------------\n",
      "Number of qubits (L): 1\n",
      "Magnetic fields(h): [-0.1, 0.1]\n",
      "Timesteps (dt): 0.01\n",
      "Iterations: 1000\n",
      "Percentage of flips: 20\n",
      "Exp decays of flips: False\n",
      "Metropolis: False\n",
      "\n",
      "\n",
      "\n",
      "\n",
      "--------------PARAMETERS for Plotting-------------\n",
      "Timegrid: [0.   0.25 0.5  0.75 1.   1.25 1.5  1.75 2.   2.25 2.5  2.75 3.   3.25\n",
      " 3.5  3.75 4.  ]\n",
      "Repetition at each timestep: 20\n",
      "\n",
      "\n"
     ]
    }
   ],
   "source": [
    "#Starting qstates and their normalization\n",
    "qstart = np.array([-1/2 - (np.sqrt(5))/2 ,1], dtype=complex)\n",
    "qtarget = np.array([+1/2 + (np.sqrt(5))/2 ,1], dtype=complex)\n",
    "qstart=qstart/np.sqrt(np.vdot(qstart,qstart))\n",
    "qtarget=qtarget/np.sqrt(np.vdot(qtarget,qtarget))\n",
    "\n",
    "#SD parameters\n",
    "L = 1\n",
    "h = [-0.1,0.1]\n",
    "dt = 0.01\n",
    "iterations = int(1e3)\n",
    "percentage_flips = 20\n",
    "exp_decay = False\n",
    "metropolis = False\n",
    "\n",
    "print(\"-------------PARAMETERS for SD---------------\")\n",
    "print(\"Number of qubits (L):\", L)\n",
    "print(\"Magnetic fields(h):\", h)\n",
    "print(\"Timesteps (dt):\", dt)\n",
    "print(\"Iterations:\", iterations)\n",
    "print(\"Percentage of flips:\", percentage_flips)\n",
    "print(\"Exp decays of flips:\", exp_decay)\n",
    "print(\"Metropolis:\", metropolis)\n",
    "print(\"\\n\")\n",
    "print(\"\\n\")\n",
    "\n",
    "#parameters for Fig. pag 2 ---- Calculation of fidelity and Q(T)\n",
    "step_in_time_grid = 0.25\n",
    "times = np.arange(0,4.25,step=step_in_time_grid)\n",
    "iter_for_each_time = 20\n",
    "fidelity_for_txt = []\n",
    "print(\"--------------PARAMETERS for Plotting-------------\")\n",
    "print(\"Timegrid:\", times)\n",
    "print(\"Repetition at each timestep:\", iter_for_each_time)\n",
    "print(\"\\n\")\n"
   ]
  },
  {
   "cell_type": "code",
   "execution_count": null,
   "metadata": {},
   "outputs": [
    {
     "name": "stdout",
     "output_type": "stream",
     "text": [
      "WARNING! Attenzione a non sovrascrivere\n"
     ]
    }
   ],
   "source": [
    "#UNCOMMENT TO RUN\n",
    "\n",
    "print(\"WARNING! Attenzione a non sovrascrivere\")\n",
    "for T in times:\n",
    "    temp_fid = []\n",
    "    best_prot = []\n",
    "    for _ in range(iter_for_each_time):\n",
    "        best_protocol, fidelity = stochastic_descent(qstart, qtarget, L, T, dt, iterations, \n",
    "                        flips = percentage_flips, field_list = h,beta=1,exp_decay_flip=exp_decay,\n",
    "                                             metropolis_choice=metropolis,verbose = True, check_norm = False)\n",
    "        temp_fid.append(fidelity[-1]) #at fixed T we will have \"iter_for_each_time\" evaluations of fidelity\n",
    "        best_prot.append(best_protocol) #all iter_for_each_time best protocols are stored in this variable \n",
    "                                        #and saved when new rounf over T starts\n",
    "    fidelity_for_txt.append(temp_fid) #fidelity evaluations are stored in the same \"fidelity_fot_txt\"\n",
    "                                      #variable that will have dimension len(times)*iter_for_each_time\n",
    "    best_prot = np.array([best_prot])\n",
    "    with open('protocols/testT'+str(T)+'.npy', 'wb') as f:\n",
    "        np.save(f,best_prot)\n",
    "    f.close()\n",
    "    \n",
    "#fidelity values are saved at the end\n",
    "np.savetxt('fidelity.txt', fidelity_for_txt, delimiter = ',',header=\"Matrix with as entries the values of fidelity dimension times x iterations\")\n"
   ]
  },
  {
   "cell_type": "code",
   "execution_count": null,
   "metadata": {},
   "outputs": [],
   "source": [
    "#PLOT \n",
    "\n",
    "\n",
    "\n",
    "q=[0]\n",
    "for t in times[1:]:\n",
    "    data = np.load(\"protocols_h4/testT\"+str(t)+\".npy\")[0,:,:] #first dimension is redundant \n",
    "    q.append(correlation(data))\n",
    "\n",
    "\n",
    "loaded_fidelity = pd.read_csv('fidelity_h4.txt', skiprows=1,header=None)\n",
    "\n",
    "loaded_fidelity = loaded_fidelity.loc[(loaded_fidelity.index % 19 == 0) & (loaded_fidelity.index > 0)]\n",
    "\n",
    "fig, ax = plt.subplots(figsize=(10,7))\n",
    "#plot Fidelity values\n",
    "ax.errorbar(times,loaded_fidelity.mean(axis=1).values, yerr=loaded_fidelity.std(axis=1).values, color=\"r\")\n",
    "ax.scatter(times,loaded_fidelity.mean(axis=1).values,color='r',label=\"Fidelity\")\n",
    "#plot Q values\n",
    "ax.plot(times, q, marker=\"o\", color=\"goldenrod\", markersize=7, label=\"q(T)\")\n",
    "\n",
    "ax.set_title(r\"Phase Diagram\"+\"\\n\"+\"Iterations for Each Point = \"+str(iter_for_each_time), fontsize=18)\n",
    "ax.set_xlabel(\"T [a.u.]\", fontsize=18)\n",
    "#ax.set_ylabel(r\" $Fidelity$\", fontsize=18)\n",
    "ax.tick_params(axis='both', which='major', labelsize=14)\n",
    "ax.legend(fontsize=13, loc=5)\n",
    "fig.tight_layout()\n",
    "plt.show()"
   ]
  },
  {
   "cell_type": "code",
   "execution_count": null,
   "metadata": {},
   "outputs": [],
   "source": []
  }
 ],
 "metadata": {
  "kernelspec": {
   "display_name": "Python 3",
   "language": "python",
   "name": "python3"
  },
  "language_info": {
   "codemirror_mode": {
    "name": "ipython",
    "version": 3
   },
   "file_extension": ".py",
   "mimetype": "text/x-python",
   "name": "python",
   "nbconvert_exporter": "python",
   "pygments_lexer": "ipython3",
   "version": "3.7.3"
  },
  "toc": {
   "base_numbering": 1,
   "nav_menu": {},
   "number_sections": true,
   "sideBar": true,
   "skip_h1_title": false,
   "title_cell": "Table of Contents",
   "title_sidebar": "Contents",
   "toc_cell": false,
   "toc_position": {},
   "toc_section_display": true,
   "toc_window_display": false
  }
 },
 "nbformat": 4,
 "nbformat_minor": 2
}

{
 "cells": [
  {
   "cell_type": "code",
   "execution_count": null,
   "metadata": {},
   "outputs": [],
   "source": [
    "from quantum_state import i, time_evolution, compute_fidelity\n",
    "from qctrl import *\n",
    "from pathlib import Path\n",
    "import matplotlib.pyplot as plt"
   ]
  },
  {
   "cell_type": "code",
   "execution_count": null,
   "metadata": {},
   "outputs": [],
   "source": [
    "out_dir = Path(\"test\")\n",
    "out_dir.mkdir(parents=True, exist_ok=True)"
   ]
  },
  {
   "cell_type": "markdown",
   "metadata": {},
   "source": [
    "### PARAMETERS AND START and TARGET STATES"
   ]
  },
  {
   "cell_type": "code",
   "execution_count": null,
   "metadata": {},
   "outputs": [],
   "source": [
    "#EPISODES AND EPISODE LENGHT\n",
    "episodes = 100000       # number of training episodes\n",
    "t_max = 3             # simulation time in seconds\n",
    "dt = 0.02               # timestep in seconds\n",
    "time_map = get_time_grid(t_max, dt)\n",
    "episode_length = len(time_map)    # maximum episode length\n",
    "\n",
    "\n",
    "#MAGNETIC FIELD AND ACTION\n",
    "mag_field = [-4, +4]\n",
    "nstates = episode_length*len(mag_field) # total number of states\n",
    "nactions = len(mag_field)              # total number of possible actions\n",
    "\n",
    "#TRAINING PARAMETERS\n",
    "discount = 0.9           # exponential discount factor\n",
    "a = 0.8\n",
    "alpha = np.ones(episodes) * a\n",
    "eps_max = 0.8\n",
    "eps_min = 0.01\n",
    "epsilon = np.linspace(eps_max, eps_min,episodes) #epsilon gets smaller i.e. action become more greedy as episodes go on\n",
    "\n",
    "print(\"-----PARAMETERS------\")\n",
    "print(\"n.episodes:\", episodes)\n",
    "print(\"episode length:\", t_max)\n",
    "print(\"timestep:\", dt)\n",
    "print(\"magnetic field values:\", mag_field)\n",
    "print(\"discount factor:\", discount)\n",
    "print(\"learning rate (alpha):\", a)\n",
    "print(\"epsilon from-to:\", eps_max, eps_min)\n",
    "print(\"\\n\")\n",
    "\n",
    "\n",
    "#STARTING QSTATE AND TARGET QSTATE\n",
    "qstart = np.array([+1/np.sqrt(2)+1/np.sqrt(2)*i,0. + 0.j])\n",
    "qtarget = np.array([0. + 0.j,-1/np.sqrt(2)-1/np.sqrt(2)*i])\n",
    "print(\"-----STATES------\")\n",
    "np.set_printoptions(precision=2)\n",
    "print(\"Starting qstate:\", qstart)\n",
    "print(\"Target qstate:\", qtarget)\n",
    "\n",
    "#STARTING AGENT STATE\n",
    "start = [0,-4]\n",
    "print(\"\\n\")\n",
    "print(\"Starting agent state:\", start)\n",
    "print(\"\\n\")\n",
    "\n",
    "#FIXED PARAMETERS\n",
    "max_reward = 1"
   ]
  },
  {
   "cell_type": "markdown",
   "metadata": {},
   "source": [
    "### TRAINING"
   ]
  },
  {
   "cell_type": "code",
   "execution_count": null,
   "metadata": {
    "scrolled": true
   },
   "outputs": [],
   "source": [
    "learner = Agent(nstates, nactions, discount, max_reward, softmax=True, sarsa=True)\n",
    "#print(learner.extract_state())"
   ]
  },
  {
   "cell_type": "code",
   "execution_count": null,
   "metadata": {},
   "outputs": [],
   "source": [
    "env, rewards, paths= train_agent(learner, qtarget, qstart, start, mag_field,\n",
    "                    dt, time_evolution, compute_fidelity, episodes, episode_length, \n",
    "                    epsilon, alpha, verbose=None, make_gif=None)"
   ]
  },
  {
   "cell_type": "code",
   "execution_count": null,
   "metadata": {},
   "outputs": [],
   "source": [
    "#"
   ]
  },
  {
   "cell_type": "code",
   "execution_count": null,
   "metadata": {},
   "outputs": [],
   "source": [
    "fig, ax = plt.subplots(1,1, figsize=(10,8))\n",
    "ax.scatter(np.arange(0,episodes,1), rewards, color=\"teal\")\n",
    "ax.set_xlabel(\"Episode\", fontsize=30)\n",
    "ax.set_ylabel(\"Fidelity after one episode\", fontsize=30)\n"
   ]
  },
  {
   "cell_type": "code",
   "execution_count": null,
   "metadata": {},
   "outputs": [],
   "source": [
    "fig, ax = plt.subplots(1,1, figsize=(10,8))\n",
    "ax.scatter(np.arange(0,len(time_map),1), paths)\n",
    "ax.set_xlabel(\"Time\", fontsize=30)\n",
    "ax.set_ylabel(\"Magnetic Field value\", fontsize=30)\n"
   ]
  },
  {
   "cell_type": "code",
   "execution_count": null,
   "metadata": {},
   "outputs": [],
   "source": []
  }
 ],
 "metadata": {
  "kernelspec": {
   "display_name": "Python 3",
   "language": "python",
   "name": "python3"
  },
  "language_info": {
   "codemirror_mode": {
    "name": "ipython",
    "version": 3
   },
   "file_extension": ".py",
   "mimetype": "text/x-python",
   "name": "python",
   "nbconvert_exporter": "python",
   "pygments_lexer": "ipython3",
   "version": "3.7.3"
  },
  "toc": {
   "base_numbering": 1,
   "nav_menu": {},
   "number_sections": true,
   "sideBar": true,
   "skip_h1_title": false,
   "title_cell": "Table of Contents",
   "title_sidebar": "Contents",
   "toc_cell": false,
   "toc_position": {},
   "toc_section_display": true,
   "toc_window_display": false
  }
 },
 "nbformat": 4,
 "nbformat_minor": 2
}

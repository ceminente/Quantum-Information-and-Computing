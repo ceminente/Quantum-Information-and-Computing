{
 "cells": [
  {
   "cell_type": "markdown",
   "metadata": {},
   "source": [
    "**SD NQBit**"
   ]
  },
  {
   "cell_type": "code",
   "execution_count": 1,
   "metadata": {
    "ExecuteTime": {
     "end_time": "2020-10-20T13:30:15.701598Z",
     "start_time": "2020-10-20T13:30:15.162364Z"
    }
   },
   "outputs": [
    {
     "data": {
      "application/javascript": [
       "IPython.notebook.set_autosave_interval(1000)"
      ]
     },
     "metadata": {},
     "output_type": "display_data"
    },
    {
     "name": "stdout",
     "output_type": "stream",
     "text": [
      "Autosaving every 1 seconds\n"
     ]
    }
   ],
   "source": [
    "%autosave 1\n",
    "import numpy as np\n",
    "import warnings\n",
    "from quspin.operators import hamiltonian\n",
    "from quspin.basis import spin_basis_1d\n",
    "from numpy import linalg as LA\n",
    "import matplotlib.pyplot as plt\n",
    "from scipy.constants import hbar\n",
    "warnings.filterwarnings(\"ignore\")\n",
    "from functools import reduce\n",
    "from math import sqrt\n",
    "from random import gauss, uniform\n",
    "from random import choices\n",
    "from random import uniform\n",
    "from tqdm import tnrange\n",
    "from copy import deepcopy"
   ]
  },
  {
   "cell_type": "code",
   "execution_count": 2,
   "metadata": {},
   "outputs": [],
   "source": [
    "def hamiltonian(L,g=1,hx=1):\n",
    "    H1 = np.zeros((2**L,2**L))\n",
    "    H2 = np.zeros((2**L,2**L))\n",
    "    H3 = np.zeros((2**L,2**L))\n",
    "    \n",
    "    for j in range(L-1):   \n",
    "        H1 = np.kron(np.identity(2**j),sigma3_tensor)\n",
    "        H1 = np.kron(H1,np.identity(2**(L-j-2)))\n",
    "    \n",
    "    for i in range(L):\n",
    "        \n",
    "        H3 = np.kron(np.identity(2**i),sigma1)\n",
    "        H3 = np.kron(H3,np.identity(2**(L-i-1)))\n",
    "        H2 = np.kron(np.identity(2**i),sigma3)\n",
    "        H2 = np.kron(H2,np.identity(2**(L-i-1)))\n",
    "    \n",
    "    H = H1 + g*H2 + hx*H3\n",
    "    return H \n",
    "\n",
    "def coefficients_wave_functions(L):\n",
    "    coefficients = np.array([gauss(0.0, 1.0) for _ in range(2**(L+1))])\n",
    "    norm = sqrt(reduce(lambda sum,x: sum + x*x, coefficients, 0.0))\n",
    "    real = np.split(coefficients, 2)[0]\n",
    "    imag = np.split(coefficients, 2)[1]\n",
    "    return np.array([real / norm + 1.j*(imag / norm) for real,imag in zip(real,imag)],dtype=np.complex128)\n",
    "\n",
    "def modulus_squared_inner_product(psi1,psi2):\n",
    "    modulus=np.abs(np.dot(np.conj(psi1.T),psi2))\n",
    "    return modulus**2\n",
    "\n",
    "def update_state(eigenvectors,eigenvalues,psi_in,T):\n",
    "    \n",
    "    c_i = np.array([np.dot(eigenvectors[:,i],psi_in) for i in range(len(psi_in))]) \n",
    "    psi_rec = []\n",
    "    for i in range(len(psi_in)):\n",
    "        psi_rec.append(c_i[i]*np.exp((-1j*eigenvalues[i]*T)/hbar)*eigenvectors[i])\n",
    "    return np.array(psi_rec).sum(axis=0)"
   ]
  },
  {
   "cell_type": "markdown",
   "metadata": {},
   "source": [
    "[Libreria di riferimento](http://weinbe58.github.io/QuSpin/generated/quspin.basis.spin_basis_1d.html)\n",
    "\n",
    "We want to write a chain of L coupled qubits:\n",
    "$$H[h_x(t)] = - \\sum_{j=1}^L(S^z_{j+1}S^z_j+gS^z_j+h_x(t)S^x_j)$$\n",
    "as in the article we set g=1. \n",
    "\n",
    "In the particoular case of single qubit we remove the first term J=0: \n",
    "\n",
    "$$H[h_x(t)] = - S^z_j - h_x(t)S^x_j$$"
   ]
  },
  {
   "cell_type": "code",
   "execution_count": 3,
   "metadata": {},
   "outputs": [],
   "source": [
    "NQUBITS = 2"
   ]
  },
  {
   "cell_type": "code",
   "execution_count": 4,
   "metadata": {},
   "outputs": [],
   "source": [
    "sigma1=np.array([[0,1],[1,0]])\n",
    "sigma2=np.array([[0,-1.j],[1.j,0]])\n",
    "sigma3=np.array([[1,0],[0,-1]])\n",
    "sigma3_tensor= np.kron(sigma3,sigma3)"
   ]
  },
  {
   "cell_type": "markdown",
   "metadata": {},
   "source": [
    "**STOCHASTIC DESCENT**\n",
    "1. Start from a random protocol and proposes local field updates at time t choosing uniformly in the interval [0,T].\n",
    "2. Magnetic field is changed only if increase the fidelity.\n",
    "3. Number of fidelity evaluation at most $$20 \\times T/\\delta t$$\n",
    "4. Repeat with different initial random protocols.\n",
    "\n",
    "The set of protocols {$h^{\\alpha}|\\alpha= 1, \\dots, N_{real}$} used to calculate the glass-like order parameter."
   ]
  },
  {
   "cell_type": "code",
   "execution_count": 5,
   "metadata": {
    "ExecuteTime": {
     "end_time": "2020-10-20T13:51:38.192737Z",
     "start_time": "2020-10-20T13:51:38.174922Z"
    }
   },
   "outputs": [
    {
     "name": "stdout",
     "output_type": "stream",
     "text": [
      "Total time of the protocol: 1\n",
      "Time step: 0.01\n",
      "Number of timesteps: 100\n"
     ]
    }
   ],
   "source": [
    "TMAX = 1\n",
    "Δt = 0.01\n",
    "NSTEPS = int(TMAX/Δt) # protocol lenght\n",
    "ITERATIONS = 3*int(1e3)\n",
    "\n",
    "print(\"Total time of the protocol:\", TMAX)\n",
    "print(\"Time step:\", Δt)\n",
    "print(\"Number of timesteps:\", NSTEPS)\n",
    "\n",
    "LIMIT_FED_EVAL=20*TMAX/Δt # set by paper authors"
   ]
  },
  {
   "cell_type": "markdown",
   "metadata": {},
   "source": [
    "**SPECTRAL METHOD**\n",
    "\n",
    "First method to evolve the system:\n",
    "\n",
    "$$|\\psi(T)> = \\sum_{i=0}^{L-1} c_i exp[-i E_i T / \\hbar] |E_i>$$"
   ]
  },
  {
   "cell_type": "code",
   "execution_count": 6,
   "metadata": {},
   "outputs": [
    {
     "name": "stdout",
     "output_type": "stream",
     "text": [
      "--------------------------------> RESULTS FOR  2 QUBITS <-------------------------------------------- \n"
     ]
    },
    {
     "data": {
      "application/vnd.jupyter.widget-view+json": {
       "model_id": "804fa948749945b185f024e2777b63b6",
       "version_major": 2,
       "version_minor": 0
      },
      "text/plain": [
       "HBox(children=(HTML(value=''), FloatProgress(value=0.0, max=3000.0), HTML(value='')))"
      ]
     },
     "metadata": {},
     "output_type": "display_data"
    },
    {
     "name": "stdout",
     "output_type": "stream",
     "text": [
      "UPDATE   ITERATION N° 0\n",
      "UPDATE   ITERATION N° 2\n",
      "UPDATE   ITERATION N° 11\n",
      "UPDATE   ITERATION N° 16\n",
      "UPDATE   ITERATION N° 22\n",
      "\n",
      " \n",
      "FINAL FIDELTY FOR 2 QUBITS 0.8896556413691503\n",
      "FINAL RECONSTRUCTED STATE [ 0.20356545+0.50753032j -0.5527191 +0.09763327j -0.18908408+0.29715824j\n",
      "  0.07490729+0.50623761j]\n",
      "--------------------------------> RESULTS FOR  3 QUBITS <-------------------------------------------- \n"
     ]
    },
    {
     "data": {
      "application/vnd.jupyter.widget-view+json": {
       "model_id": "9e80c5bf7d184a70915df001acc0417e",
       "version_major": 2,
       "version_minor": 0
      },
      "text/plain": [
       "HBox(children=(HTML(value=''), FloatProgress(value=0.0, max=3000.0), HTML(value='')))"
      ]
     },
     "metadata": {},
     "output_type": "display_data"
    },
    {
     "name": "stdout",
     "output_type": "stream",
     "text": [
      "UPDATE   ITERATION N° 0\n",
      "UPDATE   ITERATION N° 8\n",
      "UPDATE   ITERATION N° 24\n",
      "UPDATE   ITERATION N° 25\n",
      "\n",
      " \n",
      "FINAL FIDELTY FOR 3 QUBITS 0.4217974160445827\n",
      "FINAL RECONSTRUCTED STATE [-0.34700346+0.29970552j  0.31290121+0.06491087j  0.09257935-0.15282784j\n",
      " -0.43162214+0.04115203j -0.41205947+0.30891999j  0.04050563-0.21881076j\n",
      "  0.25262089+0.10891022j  0.19275412+0.20037426j]\n",
      "--------------------------------> RESULTS FOR  4 QUBITS <-------------------------------------------- \n"
     ]
    },
    {
     "data": {
      "application/vnd.jupyter.widget-view+json": {
       "model_id": "d6c7bba6056c403e9b7a955e9bb74166",
       "version_major": 2,
       "version_minor": 0
      },
      "text/plain": [
       "HBox(children=(HTML(value=''), FloatProgress(value=0.0, max=3000.0), HTML(value='')))"
      ]
     },
     "metadata": {},
     "output_type": "display_data"
    },
    {
     "name": "stdout",
     "output_type": "stream",
     "text": [
      "UPDATE   ITERATION N° 2\n",
      "UPDATE   ITERATION N° 5\n",
      "UPDATE   ITERATION N° 6\n",
      "\n",
      " \n",
      "FINAL FIDELTY FOR 4 QUBITS 0.2372612585678413\n",
      "FINAL RECONSTRUCTED STATE [ 0.12395585-0.08135109j  0.08036596-0.13950822j  0.08025771-0.22724325j\n",
      "  0.00108119+0.03910205j  0.03371143+0.19903258j  0.27494468+0.27983175j\n",
      "  0.1478864 -0.00066487j -0.14602885-0.07264837j -0.11892111-0.11333807j\n",
      " -0.11319066+0.11975246j -0.19426681+0.02768786j  0.11549308-0.10430189j\n",
      " -0.07949988+0.13182189j -0.36610642+0.08482445j  0.171134  +0.46484142j\n",
      "  0.02212647-0.3488787j ]\n",
      "--------------------------------> RESULTS FOR  5 QUBITS <-------------------------------------------- \n"
     ]
    },
    {
     "data": {
      "application/vnd.jupyter.widget-view+json": {
       "model_id": "6a259f7b122240fb832f9f74c47f0a5f",
       "version_major": 2,
       "version_minor": 0
      },
      "text/plain": [
       "HBox(children=(HTML(value=''), FloatProgress(value=0.0, max=3000.0), HTML(value='')))"
      ]
     },
     "metadata": {},
     "output_type": "display_data"
    },
    {
     "name": "stdout",
     "output_type": "stream",
     "text": [
      "UPDATE   ITERATION N° 0\n",
      "UPDATE   ITERATION N° 1\n",
      "UPDATE   ITERATION N° 2\n",
      "UPDATE   ITERATION N° 8\n",
      "UPDATE   ITERATION N° 9\n",
      "\n",
      " \n",
      "FINAL FIDELTY FOR 5 QUBITS 0.08097395580128605\n",
      "FINAL RECONSTRUCTED STATE [ 0.15980178+0.05183234j -0.02614047+0.16398597j  0.2976103 -0.05783864j\n",
      " -0.03220041-0.13880968j -0.00481555-0.00635623j -0.06921029-0.07211638j\n",
      "  0.05283149-0.01577523j -0.10374085+0.10641077j -0.0986588 -0.12021088j\n",
      " -0.38590201+0.05063077j  0.02626494+0.11284406j  0.02791228+0.03054251j\n",
      "  0.03197459-0.03405943j  0.09024541+0.12990919j -0.11270084-0.11457442j\n",
      "  0.05282173-0.31016848j  0.09556631-0.1178626j   0.03192628+0.00437622j\n",
      " -0.06616391-0.13621499j  0.04123482+0.26356888j  0.07497046-0.02899495j\n",
      " -0.04073362+0.20581189j  0.04350301-0.07006048j  0.03714483-0.05539171j\n",
      " -0.13058357-0.00040678j  0.04681254+0.0708743j  -0.15306196+0.13754656j\n",
      "  0.01485896-0.16161383j  0.0787395 +0.18372699j -0.16869582+0.04676621j\n",
      "  0.18816117+0.21862549j -0.12635329-0.10656704j]\n"
     ]
    }
   ],
   "source": [
    "N_QUBITS = [2,3,4,5]\n",
    "fidelity_values = [ ]\n",
    "for NQUBITS in N_QUBITS:\n",
    "    \n",
    "    hamiltonian_plus4 = hamiltonian(L=NQUBITS,hx=4)\n",
    "    hamiltonian_minus4 = hamiltonian(L=NQUBITS,hx=-4)\n",
    "    val_H_plus4,vec__H_plus4, = LA.eig(hamiltonian_plus4)\n",
    "    val_H_minus4,vec__H_minus4, = LA.eig(hamiltonian_minus4)\n",
    "\n",
    "    np.random.seed(213)\n",
    "\n",
    "    hx = [-4,4]\n",
    "\n",
    "    random_protocol = np.array(choices(hx, k=NSTEPS)) # Define a random protocol, sampling without replacement from a list. \n",
    "    temp_protocol=deepcopy(random_protocol)\n",
    "    # angle_phase_iniz = uniform(0,2*np.pi)\n",
    "    # angle_phase_target = uniform(0,2*np.pi) \n",
    "    psi_start = coefficients_wave_functions(L=NQUBITS) # Start from a random 2^L state \n",
    "    psi_target = coefficients_wave_functions(L=NQUBITS)  # Remember to change first component when things will work.\n",
    "\n",
    "    fidelity = modulus_squared_inner_product(psi_target,psi_start)\n",
    "#     fidelity_values = [fidelity]\n",
    "\n",
    "    psi_start.shape\n",
    "    vec__H_minus4.shape\n",
    "\n",
    "    warnings.filterwarnings(\"ignore\")\n",
    "    percentage_flip=25\n",
    "    print(\"--------------------------------> RESULTS FOR \",NQUBITS,\"QUBITS <-------------------------------------------- \")\n",
    "    for j in tnrange(ITERATIONS):\n",
    "        psi_iniz=deepcopy(psi_start)\n",
    "        index_update = np.random.randint(0, NSTEPS-1,size=int(NSTEPS/100*percentage_flip)) # Select an index for the update.\n",
    "        temp_protocol[index_update] = random_protocol[index_update]*(-1) # Try to update that index.\n",
    "\n",
    "        for i in temp_protocol:  # Evolve the random state according to the protocol\n",
    "            if i<0:\n",
    "                psi_iniz = update_state(vec__H_minus4,val_H_minus4, psi_iniz,Δt)\n",
    "            else:\n",
    "                psi_iniz = update_state(vec__H_plus4,val_H_plus4, psi_iniz,Δt)\n",
    "\n",
    "        temp_fidelity = modulus_squared_inner_product(psi_target,psi_iniz) # Evaluate the fidelity\n",
    "        if temp_fidelity>fidelity: # Update the change only if better fidelity\n",
    "            random_protocol=deepcopy(temp_protocol)\n",
    "            fidelity=temp_fidelity\n",
    "            print(\"UPDATE  \", \"ITERATION N°\",j )\n",
    "            best_reached_state = psi_iniz\n",
    "#         fidelity_values.append(fidelity)\n",
    "\n",
    "    print(\" \")\n",
    "    print(\"FINAL FIDELTY FOR\",NQUBITS,\"QUBITS\",modulus_squared_inner_product(psi_target,best_reached_state) ) \n",
    "    print(\"FINAL RECONSTRUCTED STATE\", best_reached_state) \n",
    "    fidelity_values.append(fidelity)"
   ]
  },
  {
   "cell_type": "code",
   "execution_count": 9,
   "metadata": {},
   "outputs": [
    {
     "data": {
      "text/plain": [
       "[0.8896556413691503,\n",
       " 0.4217974160445827,\n",
       " 0.2372612585678413,\n",
       " 0.08097395580128605]"
      ]
     },
     "execution_count": 9,
     "metadata": {},
     "output_type": "execute_result"
    }
   ],
   "source": [
    "fidelity_values"
   ]
  },
  {
   "cell_type": "code",
   "execution_count": 18,
   "metadata": {
    "ExecuteTime": {
     "end_time": "2020-10-20T13:59:37.034473Z",
     "start_time": "2020-10-20T13:59:36.822916Z"
    }
   },
   "outputs": [
    {
     "data": {
      "image/png": "[encoded data removed]",
      "text/plain": [
       "<Figure size 792x360 with 1 Axes>"
      ]
     },
     "metadata": {
      "needs_background": "light"
     },
     "output_type": "display_data"
    }
   ],
   "source": [
    "fig, ax = plt.subplots(figsize=(11,5))\n",
    "ax.scatter(2+np.arange(len(fidelity_values)),1-np.array(fidelity_values),color='r')\n",
    "ax.set_title(r\"Variation of INfidelity Each Iteration\", fontsize=18)\n",
    "ax.set_xlabel(\"N QUBITS\", fontsize=18)\n",
    "ax.set_ylabel(r\" $INfidelity$\", fontsize=18)\n",
    "ax.tick_params(axis='both', which='major', labelsize=14) "
   ]
  }
 ],
 "metadata": {
  "hide_input": false,
  "kernelspec": {
   "display_name": "Python 3",
   "language": "python",
   "name": "python3"
  },
  "language_info": {
   "codemirror_mode": {
    "name": "ipython",
    "version": 3
   },
   "file_extension": ".py",
   "mimetype": "text/x-python",
   "name": "python",
   "nbconvert_exporter": "python",
   "pygments_lexer": "ipython3",
   "version": "3.7.9"
  },
  "toc": {
   "base_numbering": 1,
   "nav_menu": {},
   "number_sections": true,
   "sideBar": true,
   "skip_h1_title": false,
   "title_cell": "Table of Contents",
   "title_sidebar": "Contents",
   "toc_cell": false,
   "toc_position": {},
   "toc_section_display": true,
   "toc_window_display": false
  }
 },
 "nbformat": 4,
 "nbformat_minor": 4
}

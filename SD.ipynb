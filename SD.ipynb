{
 "cells": [
  {
   "cell_type": "code",
   "execution_count": 17,
   "metadata": {
    "ExecuteTime": {
     "end_time": "2020-10-20T13:30:15.701598Z",
     "start_time": "2020-10-20T13:30:15.162364Z"
    }
   },
   "outputs": [],
   "source": [
    "import numpy as np\n",
    "import warnings\n",
    "from quspin.operators import hamiltonian\n",
    "from quspin.basis import spin_basis_1d\n",
    "import matplotlib.pyplot as plt\n",
    "warnings.filterwarnings(\"ignore\", category=FutureWarning)"
   ]
  },
  {
   "cell_type": "markdown",
   "metadata": {},
   "source": [
    "[Libreria di riferimento](http://weinbe58.github.io/QuSpin/generated/quspin.basis.spin_basis_1d.html)\n",
    "\n",
    "We want to write a chain of L coupled qubits:\n",
    "$$H[h_x(t)] = - \\sum_{j=1}^L(JS^z_{j+1}S^z_j+gS^z_j+h_x(t)S^x_j)$$\n",
    "as in the article we set g=1. \n",
    "\n",
    "In the particoular case of single qubit we remove the first term J=0: \n",
    "\n",
    "$$H[h_x(t)] = - S^z_j - h_x(t)S^x_j$$"
   ]
  },
  {
   "cell_type": "code",
   "execution_count": 26,
   "metadata": {
    "ExecuteTime": {
     "end_time": "2020-10-20T13:50:54.213629Z",
     "start_time": "2020-10-20T13:50:54.175489Z"
    },
    "scrolled": false
   },
   "outputs": [
    {
     "name": "stdout",
     "output_type": "stream",
     "text": [
      "Hermiticity check passed!\n",
      "Symmetry checks passed!\n",
      "\n",
      "\n",
      "-------------------------------> Hamiltonian <-------------------------------\n",
      "\n",
      "[[ 2.25       -3.46410162  0.          0.        ]\n",
      " [-3.46410162  0.25       -4.          0.        ]\n",
      " [ 0.         -4.         -0.75       -3.46410162]\n",
      " [ 0.          0.         -3.46410162 -0.75      ]]\n",
      "\n",
      "------------------------------------------------------------------------------\n",
      "\n",
      "\n",
      "---------------------> Eigenvalues, Eigenvectors (in columns)<-------------------------------\n",
      "\n",
      "(array([-6.16876758, -1.61785763,  2.52563332,  6.26099189]), array([[ 0.22432566, -0.48462587,  0.64105626,  0.55123736],\n",
      "       [ 0.54517616, -0.54111111, -0.05100788, -0.63826321],\n",
      "       [ 0.68056804,  0.16701869, -0.5261522 ,  0.48176318],\n",
      "       [ 0.43507252,  0.6666643 ,  0.55642513, -0.23803716]]))\n",
      "\n",
      "------------------------------------------------------------------------------\n"
     ]
    },
    {
     "data": {
      "text/plain": [
       "<quspin.operators.hamiltonian:\n",
       "static mat: <4x4 sparse matrix of type '<class 'numpy.float64'>'\n",
       "\twith 4 stored elements (1 diagonals) in DIAgonal format>\n",
       "dynamic:\n",
       " 0) func: operator, mat: <4x4 sparse matrix of type '<class 'numpy.float64'>'\n",
       "\twith 6 stored elements in Compressed Sparse Row format> >"
      ]
     },
     "execution_count": 26,
     "metadata": {},
     "output_type": "execute_result"
    }
   ],
   "source": [
    "def hamiltonian1_eigenprob(L=1,J=1.0,g=1.0,hz=1.0, hx_min=-4., hx_max =4.,Δh=1,n_step=20): \n",
    "    if L < 2:\n",
    "        J=0\n",
    "    else:\n",
    "        J=J\n",
    "#     if L>1: \n",
    "    # Nel caso di una chain si fa riferimento a symmetries rappresentate da parametri block, capisci meglio.\n",
    "    basis = spin_basis_1d(L=L,pauli=0,kblock=0,pblock=1) \n",
    "    # Voglio usare il il metodo hamiltoniana, come primo argomento gli serve \n",
    "    \n",
    "    x_field=[[g,i] for i in range(L)]\n",
    "    z_field=[[hz,i] for i in range(L)]\n",
    "#     hx_discrete = np.arange(start=hx_min, stop=hx_max, step=Δh)\n",
    "    # la parte dinamica dell' hamiltoniana nella funzione richiede una lista con\n",
    "    # [[\"asse\",coefficiente,funzione dipendente da t,parametri funzione dipendente da t]]\n",
    "    J_nn=[[J,i,(i+1)%L] for i in range(L)] # Periodic Boundary Condition\n",
    "    static=[[\"zz\",J_nn],[\"z\",z_field]]\n",
    "    \n",
    "    h_values =np.arange(hx_min,hx_max,Δh) # discrete set of possible h fields \n",
    "    \n",
    "    def operator(time):\n",
    "        return h_values[hx_discrete[int(time)]]\n",
    "    \n",
    "    hx_discrete = np.zeros(n_step, dtype=int) # hx_discrete are protocols specified as integers\n",
    "    \n",
    "    \n",
    "#     fct = lambda time: h_set[hx_discrete[int(time)]]\n",
    "    # If the operator is time-INdependent, one must pass an empty list: dynamic_list = [].\n",
    "    dynamic=[[\"x\",x_field,operator,[]]]\n",
    "    H=hamiltonian(static,dynamic,static_fmt=\"dia\",dtype=np.float64,basis=basis)\n",
    "    print(\"\\n\\n-------------------------------> Hamiltonian <-------------------------------\")\n",
    "    print(\"\")\n",
    "    print(H.toarray())\n",
    "    print(\"\")\n",
    "    print(\"------------------------------------------------------------------------------\")\n",
    "\n",
    "    eigensystem = H.eigh()\n",
    "    print(\"\\n\\n---------------------> Eigenvalues, Eigenvectors (in columns)<-------------------------------\")\n",
    "    print(\"\")\n",
    "    print(eigensystem)\n",
    "    print(\"\")\n",
    "    print(\"------------------------------------------------------------------------------\")\n",
    "    eigenvectors = eigensystem[1]\n",
    "    eigenvalues = eigensystem[0]\n",
    "    return H ,eigenvectors,eigenvalues\n",
    "hamiltonian0(L=3)"
   ]
  },
  {
   "cell_type": "code",
   "execution_count": 37,
   "metadata": {
    "ExecuteTime": {
     "end_time": "2020-10-20T13:52:35.898733Z",
     "start_time": "2020-10-20T13:52:35.867307Z"
    }
   },
   "outputs": [
    {
     "name": "stdout",
     "output_type": "stream",
     "text": [
      "Hermiticity check passed!\n",
      "Symmetry checks passed!\n"
     ]
    },
    {
     "data": {
      "text/plain": [
       "(<quspin.operators.hamiltonian:\n",
       " static mat: <2x2 sparse matrix of type '<class 'numpy.float64'>'\n",
       " \twith 4 stored elements (3 diagonals) in DIAgonal format>\n",
       " dynamic:>,\n",
       " array([[ 0.61541221, -0.78820544],\n",
       "        [-0.78820544, -0.61541221]]),\n",
       " array([-2.06155281,  2.06155281]))"
      ]
     },
     "execution_count": 37,
     "metadata": {},
     "output_type": "execute_result"
    }
   ],
   "source": [
    "def hamiltonian_eigenprob(hx,L=1,J=1.0,g=1.0,hz=1.0): \n",
    "    if L < 2:\n",
    "        J=0\n",
    "    else:\n",
    "        J=J\n",
    "#     if L>1: \n",
    "    # Nel caso di una chain si fa riferimento a symmetries rappresentate da parametri block, capisci meglio.\n",
    "    basis = spin_basis_1d(L=L,pauli=0,kblock=0,pblock=1) \n",
    "    # Voglio usare il il metodo hamiltoniana, come primo argomento gli serve \n",
    "    \n",
    "    z_field=[[g,i] for i in range(L)]\n",
    "    x_field=[[hx,i] for i in range(L)]\n",
    "#     hx_discrete = np.arange(start=hx_min, stop=hx_max, step=Δh)\n",
    "    # la parte dinamica dell' hamiltoniana nella funzione richiede una lista con\n",
    "    # [[\"asse\",coefficiente,funzione dipendente da t,parametri funzione dipendente da t]]\n",
    "    J_nn=[[J,i,(i+1)%L] for i in range(L)] # Periodic Boundary Condition\n",
    "    static=[[\"zz\",J_nn],[\"z\",z_field],[\"x\",x_field]]\n",
    "    \n",
    "#     h_values =np.arange(hx_min,hx_max,Δh) # discrete set of possible h fields \n",
    "    \n",
    "#     def operator(time):\n",
    "#         return h_values[hx_discrete[int(time)]]\n",
    "    \n",
    "#     hx_discrete = np.zeros(n_step, dtype=int) # hx_discrete are protocols specified as integers\n",
    "    \n",
    "    dynamic=[]\n",
    "#     fct = lambda time: h_set[hx_discrete[int(time)]]\n",
    "    # If the operator is time-INdependent, one must pass an empty list: dynamic_list = [].\n",
    "#     dynamic=[[\"x\",x_field,operator,[]]]\n",
    "    H=hamiltonian(static,dynamic,static_fmt=\"dia\",dtype=np.float64,basis=basis)\n",
    "#     print(\"\\n\\n-------------------------------> Hamiltonian <-------------------------------\")\n",
    "#     print(\"\")\n",
    "#     print(H.toarray())\n",
    "#     print(\"\")\n",
    "#     print(\"------------------------------------------------------------------------------\")\n",
    "\n",
    "    eigensystem = H.eigh()\n",
    "#     print(\"\\n\\n---------------------> Eigenvalues, Eigenvectors (in columns)<-------------------------------\")\n",
    "#     print(\"\")\n",
    "#     print(eigensystem)\n",
    "#     print(\"\")\n",
    "#     print(\"------------------------------------------------------------------------------\")\n",
    "    eigenvectors = eigensystem[1]\n",
    "    eigenvalues = eigensystem[0]\n",
    "    return H ,eigenvectors,eigenvalues\n",
    "hamiltonian_eigenprob(L=1, hx=4)"
   ]
  },
  {
   "cell_type": "markdown",
   "metadata": {},
   "source": [
    "**STOCHASTIC DESCENT**\n",
    "1. Start from a random protocol and proposes local field updates at time t choosing uniformly in the interval [0,T].\n",
    "2. Magnetic field is changed only if increase the fidelity.\n",
    "3. Number of fidelity evaluation at most $$20 \\times T/\\delta t$$\n",
    "4. Repeat with different initial random protocols.\n",
    "\n",
    "The set of protocols {$h^{\\alpha}|\\alpha= 1, \\dots, N_{real}$} used to calculate the glass-like order parameter."
   ]
  },
  {
   "cell_type": "code",
   "execution_count": 31,
   "metadata": {
    "ExecuteTime": {
     "end_time": "2020-10-20T13:51:36.106063Z",
     "start_time": "2020-10-20T13:51:36.081235Z"
    }
   },
   "outputs": [],
   "source": [
    "def modulus_squared_inner_product(psi1,psi2):\n",
    "    modulus=np.abs(np.dot(np.conj(psi1.T),psi2))\n",
    "    return modulus**2\n",
    "def fidelity(psi_target,psi_rec):\n",
    "    return modulus_squared_inner_product(psi_target, psi_rec)\n",
    "def infidelity(psi_target,psi_rec):\n",
    "    return 1-modulus_squared_inner_product(psi_target, psi_rec)\n",
    "def update_state(eigenvectors,eigenvalues,psi_in,T):\n",
    "    c_i = np.array([np.dot(eigenvectors[:,i],psi_in) for i in range(len(psi_in))]) \n",
    "    psi_rec = c_i*np.exp(-1j*eigenvalues*T/hbar)*eigenvectors\n",
    "    return psi_rec"
   ]
  },
  {
   "cell_type": "code",
   "execution_count": 32,
   "metadata": {
    "ExecuteTime": {
     "end_time": "2020-10-20T13:51:38.192737Z",
     "start_time": "2020-10-20T13:51:38.174922Z"
    }
   },
   "outputs": [],
   "source": [
    "Δt = 0.01\n",
    "ITERATIONS = 100\n",
    "NSTEPS = 250\n",
    "TMAX=4\n",
    "LIMIT_FED_EVAL=20*TMAX/Δt # set by paper authors\n",
    "from scipy.constants import hbar"
   ]
  },
  {
   "cell_type": "markdown",
   "metadata": {},
   "source": [
    "**SPECTRAL METHOD**\n",
    "\n",
    "First method to evolve the system:\n",
    "\n",
    "$$|\\psi(T)> = \\sum_{i=0}^{N_{bit}-1} c_i exp[-i E_i T / \\hbar] |E_i>$$"
   ]
  },
  {
   "cell_type": "code",
   "execution_count": 44,
   "metadata": {
    "ExecuteTime": {
     "end_time": "2020-10-20T13:55:47.153484Z",
     "start_time": "2020-10-20T13:55:46.589660Z"
    }
   },
   "outputs": [
    {
     "name": "stdout",
     "output_type": "stream",
     "text": [
      "Hermiticity check passed!\n",
      "Symmetry checks passed!\n",
      "Hermiticity check passed!\n",
      "Symmetry checks passed!\n"
     ]
    },
    {
     "name": "stderr",
     "output_type": "stream",
     "text": [
      "/home/matteo/anaconda3/lib/python3.7/site-packages/ipykernel_launcher.py:20: TqdmDeprecationWarning: Please use `tqdm.notebook.trange` instead of `tqdm.tnrange`\n"
     ]
    },
    {
     "data": {
      "application/vnd.jupyter.widget-view+json": {
       "model_id": "85074ad7416e4a20918f9bb3c7dafa96",
       "version_major": 2,
       "version_minor": 0
      },
      "text/plain": [
       "HBox(children=(HTML(value=''), FloatProgress(value=0.0), HTML(value='')))"
      ]
     },
     "metadata": {},
     "output_type": "display_data"
    },
    {
     "name": "stdout",
     "output_type": "stream",
     "text": [
      "\n"
     ]
    }
   ],
   "source": [
    "from random import choices\n",
    "from random import uniform\n",
    "from tqdm import tnrange\n",
    "\n",
    "np.random.seed(212)\n",
    "\n",
    "hx = [-4,4]\n",
    "_,vec__H_minus4, val_H_minus4 = hamiltonian_eigenprob(L=1,g=1.0,hz=1.0, hx=-4)\n",
    "_,vec__H_plus4, val_H_plus4 = hamiltonian_eigenprob(L=1,g=1.0,hz=1.0, hx=4)\n",
    "\n",
    "random_protocol = choices(hx, k=NSTEPS) # Define a random protocol, sampling without replacement from a list. \n",
    "angle_phase_iniz = uniform(0,2*np.pi)\n",
    "angle_phase_target = uniform(0,2*np.pi) \n",
    "psi_iniz = 1/np.sqrt(2)*np.array([1,1*np.exp(1j*angle_phase_iniz)]) # Start from a random state 2D\n",
    "psi_target = 1/np.sqrt(2)*np.array([1,1*np.exp(1j*angle_phase_target)])# Remember to change first component when things will work.\n",
    "temp_protocol=random_protocol\n",
    "\n",
    "infidelity_values = []\n",
    "\n",
    "for j in tnrange(ITERATIONS):\n",
    "    index_update = np.random.randint(0, NSTEPS-1) # Select an index for the update.\n",
    "    temp_protocol[index_update] = random_protocol[index_update]*-1 # Try to update that index.\n",
    "#     random_protocol[index_update] = random_protocol[index_update]*-1 # Try to update that index.\n",
    "    temp_psi_iniz = psi_iniz\n",
    "    for i in temp_protocol:  # Evolve the random state according to the protocol\n",
    "        if i<0:\n",
    "            temp_psi_iniz = update_state(vec__H_minus4,val_H_minus4,temp_psi_iniz,Δt)\n",
    "        else:\n",
    "            temp_psi_iniz = update_state(vec__H_plus4,val_H_plus4,temp_psi_iniz,Δt)\n",
    "    \n",
    "    temp_infidelity = infidelity(psi_target,temp_psi_inz) # Evaluate the INfidelity\n",
    "    if temp_infidelity<infidelity(psi_target,psi_iniz): # Update the change only if worse INfidelity\n",
    "        psi_iniz = temp_psi_iniz \n",
    "        temp_protocol=random_protocol\n",
    "    infidelity_values.append(temp_infidelity)\n",
    "\n",
    "# saved_param_adam = np.array(saved_param_adam).transpose()\n",
    "# np.savetxt('Model_2_lambdas_iterations.txt', saved_param_adam, delimiter = ',',header=\"Each column is the set of the lambda parameters, the first column refers to the first iteration and so forth.\")\n",
    "\n",
    "    "
   ]
  },
  {
   "cell_type": "code",
   "execution_count": 46,
   "metadata": {
    "ExecuteTime": {
     "end_time": "2020-10-20T13:59:37.034473Z",
     "start_time": "2020-10-20T13:59:36.822916Z"
    }
   },
   "outputs": [
    {
     "data": {
      "image/png": "[encoded data removed]",
      "text/plain": [
       "<Figure size 792x360 with 1 Axes>"
      ]
     },
     "metadata": {
      "needs_background": "light"
     },
     "output_type": "display_data"
    }
   ],
   "source": [
    "fig, ax = plt.subplots(figsize=(11,5))\n",
    "ax.plot(infidelity_values,color='r')\n",
    "ax.set_title(r\"Variation of INfidelity Each Iteration\", fontsize=18)\n",
    "ax.set_xlabel(\"Iterations\", fontsize=18)\n",
    "ax.set_ylabel(r\" $INfidelity$\", fontsize=18)\n",
    "ax.tick_params(axis='both', which='major', labelsize=14) "
   ]
  }
 ],
 "metadata": {
  "hide_input": false,
  "kernelspec": {
   "display_name": "Python 3",
   "language": "python",
   "name": "python3"
  },
  "language_info": {
   "codemirror_mode": {
    "name": "ipython",
    "version": 3
   },
   "file_extension": ".py",
   "mimetype": "text/x-python",
   "name": "python",
   "nbconvert_exporter": "python",
   "pygments_lexer": "ipython3",
   "version": "3.7.9"
  },
  "toc": {
   "base_numbering": 1,
   "nav_menu": {},
   "number_sections": true,
   "sideBar": true,
   "skip_h1_title": false,
   "title_cell": "Table of Contents",
   "title_sidebar": "Contents",
   "toc_cell": false,
   "toc_position": {},
   "toc_section_display": true,
   "toc_window_display": false
  }
 },
 "nbformat": 4,
 "nbformat_minor": 4
}

{
 "cells": [
  {
   "cell_type": "code",
   "execution_count": 11,
   "metadata": {
    "ExecuteTime": {
     "end_time": "2020-10-20T08:58:31.531372Z",
     "start_time": "2020-10-20T08:58:31.522431Z"
    }
   },
   "outputs": [],
   "source": [
    "import numpy as np\n",
    "import warnings\n",
    "from quspin.operators import hamiltonian\n",
    "from quspin.basis import spin_basis_1d\n",
    "warnings.filterwarnings(\"ignore\", category=FutureWarning)"
   ]
  },
  {
   "cell_type": "markdown",
   "metadata": {},
   "source": [
    "[Libreria di riferimento](http://weinbe58.github.io/QuSpin/generated/quspin.basis.spin_basis_1d.html)\n",
    "\n",
    "We want to write a chain of L coupled qubits:\n",
    "$$H[h_x(t)] = - \\sum_{j=1}^L(JS^z_{j+1}S^z_j+gS^z_j+h_x(t)S^x_j)$$\n",
    "as in the article we set g=1. \n",
    "\n",
    "In the particoular case of single qubit we remove the first term J=0: \n",
    "\n",
    "$$H[h_x(t)] = - S^z_j - h_x(t)S^x_j$$"
   ]
  },
  {
   "cell_type": "code",
   "execution_count": 52,
   "metadata": {
    "ExecuteTime": {
     "end_time": "2020-10-20T11:00:33.691713Z",
     "start_time": "2020-10-20T11:00:33.620695Z"
    },
    "scrolled": false
   },
   "outputs": [
    {
     "name": "stdout",
     "output_type": "stream",
     "text": [
      "Hermiticity check passed!\n",
      "Symmetry checks passed!\n",
      "\n",
      "\n",
      "-------------------------------> Hamiltonian <-------------------------------\n",
      "\n",
      "[[ 2.25       -3.46410162  0.          0.        ]\n",
      " [-3.46410162  0.25       -4.          0.        ]\n",
      " [ 0.         -4.         -0.75       -3.46410162]\n",
      " [ 0.          0.         -3.46410162 -0.75      ]]\n",
      "\n",
      "------------------------------------------------------------------------------\n",
      "\n",
      "\n",
      "---------------------> Eigenvalues, Eigenvectors (in columns)<-------------------------------\n",
      "\n",
      "[-6.16876758 -1.61785763  2.52563332  6.26099189]\n",
      "\n",
      "------------------------------------------------------------------------------\n"
     ]
    },
    {
     "data": {
      "text/plain": [
       "<quspin.operators.hamiltonian:\n",
       "static mat: <4x4 sparse matrix of type '<class 'numpy.float64'>'\n",
       "\twith 4 stored elements (1 diagonals) in DIAgonal format>\n",
       "dynamic:\n",
       " 0) func: operator, mat: <4x4 sparse matrix of type '<class 'numpy.float64'>'\n",
       "\twith 6 stored elements in Compressed Sparse Row format> >"
      ]
     },
     "execution_count": 52,
     "metadata": {},
     "output_type": "execute_result"
    }
   ],
   "source": [
    "def hamiltonian0(L=1,J=1.0,g=1.0,hz=1.0, hx_min=-4., hx_max =4.,Δh=1,n_step=20): \n",
    "    if L < 2:\n",
    "        J=0\n",
    "    else:\n",
    "        J=J\n",
    "#     if L>1: \n",
    "    # Nel caso di una chain si fa riferimento a symmetries rappresentate da parametri block, capisci meglio.\n",
    "    basis = spin_basis_1d(L=L,pauli=0,kblock=0,pblock=1) \n",
    "    # Voglio usare il il metodo hamiltoniana, come primo argomento gli serve \n",
    "    \n",
    "    x_field=[[g,i] for i in range(L)]\n",
    "    z_field=[[hz,i] for i in range(L)]\n",
    "#     hx_discrete = np.arange(start=hx_min, stop=hx_max, step=Δh)\n",
    "    # la parte dinamica dell' hamiltoniana nella funzione richiede una lista con\n",
    "    # [[\"asse\",coefficiente,funzione dipendente da t,parametri funzione dipendente da t]]\n",
    "    J_nn=[[J,i,(i+1)%L] for i in range(L)] # Periodic Boundary Condition\n",
    "    static=[[\"zz\",J_nn],[\"z\",z_field]]\n",
    "    \n",
    "    h_values =np.arange(hx_min,hx_max,Δh) # discrete set of possible h fields \n",
    "    \n",
    "    def operator(time):\n",
    "        return h_values[hx_discrete[int(time)]]\n",
    "    \n",
    "    hx_discrete = np.zeros(n_step, dtype=int) # hx_discrete are protocols specified as integers\n",
    "    \n",
    "    \n",
    "#     fct = lambda time: h_set[hx_discrete[int(time)]]\n",
    "    # If the operator is time-INdependent, one must pass an empty list: dynamic_list = [].\n",
    "    dynamic=[[\"x\",x_field,operator,[]]]\n",
    "    H=hamiltonian(static,dynamic,static_fmt=\"dia\",dtype=np.float64,basis=basis)\n",
    "    print(\"\\n\\n-------------------------------> Hamiltonian <-------------------------------\")\n",
    "    print(\"\")\n",
    "    print(H.toarray())\n",
    "    print(\"\")\n",
    "    print(\"------------------------------------------------------------------------------\")\n",
    "\n",
    "    print(\"\\n\\n---------------------> Eigenvalues, Eigenvectors (in columns)<-------------------------------\")\n",
    "    print(\"\")\n",
    "    print(H.eigh())\n",
    "    print(\"\")\n",
    "    print(\"------------------------------------------------------------------------------\")\n",
    "    return H\n",
    "hamiltonian0(L=3)"
   ]
  },
  {
   "cell_type": "markdown",
   "metadata": {},
   "source": [
    "**STOCHASTIC DESCENT**\n",
    "1. Start from a random protocol and proposes local field updates at time t choosing uniformly in the interval [0,T].\n",
    "2. Magnetic field is changed only if increase the fidelity.\n",
    "3. Number of fidelity evaluation at most $$20 \\times T/\\delta t$$\n",
    "4. Repeat with different initial random protocols.\n",
    "\n",
    "The set of protocols {$h^{\\alpha}|\\alpha= 1, \\dots, N_{real}$} used to calculate the glass-like order parameter."
   ]
  },
  {
   "cell_type": "code",
   "execution_count": 9,
   "metadata": {
    "ExecuteTime": {
     "end_time": "2020-10-20T08:58:24.703499Z",
     "start_time": "2020-10-20T08:58:24.696000Z"
    }
   },
   "outputs": [],
   "source": [
    "def modulus_squared_inner_product(psi1,psi2):\n",
    "    modulus=np.abs(np.dot(np.conj(psi1.T),psi2))\n",
    "    return modulus**2\n",
    "def fidelity(psi_target,psi_rec):\n",
    "    return modulus_squared_inner_product(psi_target, psi_rec)\n",
    "def infidelity(psi_target,psi_rec):\n",
    "    return 1-modulus_squared_inner_product(psi_target, psi_rec)\n",
    "def update_state(hamiltonian,psi_in,TMAX):\n",
    "    eigensystem = H.eigh()\n",
    "    eigenvalues = eigensystem[0]\n",
    "    eigenvectors = eigensystem[1]\n",
    "    c_i = np.array([np.dot(eigenvectors[:,i],psi_in) for i in range(len(psi_in))]) \n",
    "    psi_rec = c_i*np.exp(-1j*eigenvalues*TMAX/hbar)*eigenvectors\n",
    "    return psi_rec"
   ]
  },
  {
   "cell_type": "code",
   "execution_count": 75,
   "metadata": {
    "ExecuteTime": {
     "end_time": "2020-10-20T12:27:44.432232Z",
     "start_time": "2020-10-20T12:27:44.419117Z"
    }
   },
   "outputs": [],
   "source": [
    "Δt = 0.01\n",
    "NSTEPS = 250\n",
    "TMAX=4\n",
    "LIMIT_FED_EVAL=20*TMAX/Δt # set by paper authors\n",
    "from scipy.constants import hbar"
   ]
  },
  {
   "cell_type": "markdown",
   "metadata": {},
   "source": [
    "**SPECTRAL METHOD**\n",
    "\n",
    "First method to evolve the system:\n",
    "\n",
    "$$|\\psi(T)> = \\sum_{i=0}^{N_{bit}-1} c_i exp[-i E_i T / \\hbar] |E_i>$$"
   ]
  },
  {
   "cell_type": "code",
   "execution_count": 50,
   "metadata": {
    "ExecuteTime": {
     "end_time": "2020-10-20T10:38:35.476805Z",
     "start_time": "2020-10-20T10:38:35.469848Z"
    }
   },
   "outputs": [],
   "source": [
    "from random import choices\n",
    "from random import uniform\n",
    "\n",
    "np.random.seed(212)\n",
    "\n",
    "hx = [-4,4]\n",
    "random_protocol = choices(hx, k=NSTEPS) # Define a random protocol, sampling without replacement from a list. \n",
    "index_update = np.random.randint(0, NSTEPS-1) # Select an index for the update.\n",
    "random_protocol[index_update] = random_protocol[index_update]*-1 # Select an index for the update.\n",
    "\n",
    "index_update = np.random.randint(0, NSTEPS-1)\n",
    "angle_phase_iniz = uniform(0,2*np.pi)\n",
    "angle_phase_target = uniform(0,2*np.pi) \n",
    "psi_iniz = 1/np.sqrt(2)*np.array([1,1*np.exp(1j*angle_phase_iniz)]) # Start from a random state 2D\n",
    "psi_targhet = 1/np.sqrt(2)*np.array([1,1*np.exp(1j*angle_phase_target)])# Remember to change first component when things will work.\n",
    "\n",
    "# random_protocol[index_update] = random_protocol[index_update]*-1 # Evolve the random state according to the protocol\n",
    "# random_protocol[index_update] = random_protocol[index_update]*-1 # Evaluate the fidelity\n",
    "# random_protocol[index_update] = random_protocol[index_update]*-1 # Update the change only if better fidelity"
   ]
  }
 ],
 "metadata": {
  "hide_input": false,
  "kernelspec": {
   "display_name": "Python 3",
   "language": "python",
   "name": "python3"
  },
  "language_info": {
   "codemirror_mode": {
    "name": "ipython",
    "version": 3
   },
   "file_extension": ".py",
   "mimetype": "text/x-python",
   "name": "python",
   "nbconvert_exporter": "python",
   "pygments_lexer": "ipython3",
   "version": "3.7.9"
  },
  "toc": {
   "base_numbering": 1,
   "nav_menu": {},
   "number_sections": true,
   "sideBar": true,
   "skip_h1_title": false,
   "title_cell": "Table of Contents",
   "title_sidebar": "Contents",
   "toc_cell": false,
   "toc_position": {},
   "toc_section_display": true,
   "toc_window_display": false
  }
 },
 "nbformat": 4,
 "nbformat_minor": 4
}

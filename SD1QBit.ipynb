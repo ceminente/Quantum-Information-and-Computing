{
 "cells": [
  {
   "cell_type": "code",
   "execution_count": 1,
   "metadata": {
    "ExecuteTime": {
     "end_time": "2020-10-20T13:30:15.701598Z",
     "start_time": "2020-10-20T13:30:15.162364Z"
    }
   },
   "outputs": [],
   "source": [
    "%autosave 1\n",
    "import numpy as np\n",
    "import warnings\n",
    "from quspin.operators import hamiltonian\n",
    "from quspin.basis import spin_basis_1d\n",
    "from numpy import linalg as LA\n",
    "import matplotlib.pyplot as plt\n",
    "from scipy.constants import hbar\n",
    "warnings.filterwarnings(\"ignore\")"
   ]
  },
  {
   "cell_type": "markdown",
   "metadata": {},
   "source": [
    "[Libreria di riferimento](http://weinbe58.github.io/QuSpin/generated/quspin.basis.spin_basis_1d.html)\n",
    "\n",
    "We want to write a chain of L coupled qubits:\n",
    "$$H[h_x(t)] = - \\sum_{j=1}^L(JS^z_{j+1}S^z_j+gS^z_j+h_x(t)S^x_j)$$\n",
    "as in the article we set g=1. \n",
    "\n",
    "In the particoular case of single qubit we remove the first term J=0: \n",
    "\n",
    "$$H[h_x(t)] = - S^z_j - h_x(t)S^x_j$$"
   ]
  },
  {
   "cell_type": "code",
   "execution_count": 2,
   "metadata": {},
   "outputs": [],
   "source": [
    "sigma1=np.array([[0,1],[1,0]])\n",
    "sigma2=np.array([[0,-1j],[1j,0]])\n",
    "sigma3=np.array([[1,0],[0,-1]])"
   ]
  },
  {
   "cell_type": "code",
   "execution_count": 3,
   "metadata": {},
   "outputs": [],
   "source": [
    "hamiltonian_plus4 = -sigma3-4*sigma1\n",
    "hamiltonian_minus4 = -sigma3+4*sigma1\n",
    "val_H_plus4,vec__H_plus4, = LA.eig(hamiltonian_plus4)\n",
    "val_H_minus4,vec__H_minus4, = LA.eig(hamiltonian_minus4)"
   ]
  },
  {
   "cell_type": "markdown",
   "metadata": {},
   "source": [
    "**STOCHASTIC DESCENT**\n",
    "1. Start from a random protocol and proposes local field updates at time t choosing uniformly in the interval [0,T].\n",
    "2. Magnetic field is changed only if increase the fidelity.\n",
    "3. Number of fidelity evaluation at most $$20 \\times T/\\delta t$$\n",
    "4. Repeat with different initial random protocols.\n",
    "\n",
    "The set of protocols {$h^{\\alpha}|\\alpha= 1, \\dots, N_{real}$} used to calculate the glass-like order parameter."
   ]
  },
  {
   "cell_type": "code",
   "execution_count": 4,
   "metadata": {
    "ExecuteTime": {
     "end_time": "2020-10-20T13:51:36.106063Z",
     "start_time": "2020-10-20T13:51:36.081235Z"
    }
   },
   "outputs": [],
   "source": [
    "def modulus_squared_inner_product(psi1,psi2):\n",
    "    modulus=np.abs(np.dot(np.conj(psi1.T),psi2))\n",
    "    return modulus**2\n",
    "def fidelity(psi_target,psi_rec):\n",
    "    return modulus_squared_inner_product(psi_target, psi_rec)\n",
    "def infidelity(psi_target,psi_rec):\n",
    "    return 1 - modulus_squared_inner_product(psi_target, psi_rec)\n",
    "\n",
    "def update_state(eigenvectors,eigenvalues,psi_in,T):\n",
    "    \n",
    "    c_i = np.array([np.dot(eigenvectors[:,i],psi_in) for i in range(len(psi_in))]) \n",
    "    psi_rec = []\n",
    "    for i in range(len(psi_in)):\n",
    "        psi_rec.append(c_i[i]*np.exp((-1j*eigenvalues[i]*T)/hbar)*eigenvectors[i])\n",
    "    return np.array(psi_rec).sum(axis=0)"
   ]
  },
  {
   "cell_type": "code",
   "execution_count": 5,
   "metadata": {
    "ExecuteTime": {
     "end_time": "2020-10-20T13:51:38.192737Z",
     "start_time": "2020-10-20T13:51:38.174922Z"
    }
   },
   "outputs": [],
   "source": [
    "Δt = 0.01\n",
    "ITERATIONS = int(5e3)\n",
    "NSTEPS = 250\n",
    "TMAX=4\n",
    "LIMIT_FED_EVAL=20*TMAX/Δt # set by paper authors"
   ]
  },
  {
   "cell_type": "markdown",
   "metadata": {},
   "source": [
    "**SPECTRAL METHOD**\n",
    "\n",
    "First method to evolve the system:\n",
    "\n",
    "$$|\\psi(T)> = \\sum_{i=0}^{L-1} c_i exp[-i E_i T / \\hbar] |E_i>$$"
   ]
  },
  {
   "cell_type": "code",
   "execution_count": 6,
   "metadata": {
    "ExecuteTime": {
     "end_time": "2020-10-20T13:55:47.153484Z",
     "start_time": "2020-10-20T13:55:46.589660Z"
    }
   },
   "outputs": [],
   "source": [
    "from random import choices\n",
    "from random import uniform\n",
    "from tqdm import tnrange\n",
    "\n",
    "np.random.seed(213)\n",
    "\n",
    "hx = [-4,4]\n",
    "\n",
    "random_protocol = np.array(choices(hx, k=NSTEPS)) # Define a random protocol, sampling without replacement from a list. \n",
    "angle_phase_iniz = uniform(0,2*np.pi)\n",
    "angle_phase_target = uniform(0,2*np.pi) \n",
    "first_coefficient = np.random.uniform(0, 1)\n",
    "second_coefficient = np.sqrt(1-first_coefficient**2)\n",
    "psi_iniz = np.array([first_coefficient,second_coefficient*np.exp(1j*angle_phase_iniz)]) # Start from a random state 2D\n",
    "psi_target = 1/np.sqrt(2)*np.array([1,1*np.exp(1j*angle_phase_target)])# Remember to change first component when things will work.\n",
    "temp_protocol=random_protocol\n",
    "\n",
    "fidelity_values = []"
   ]
  },
  {
   "cell_type": "code",
   "execution_count": 7,
   "metadata": {
    "ExecuteTime": {
     "end_time": "2020-10-20T13:55:47.153484Z",
     "start_time": "2020-10-20T13:55:46.589660Z"
    }
   },
   "outputs": [
    {
     "data": {
      "application/vnd.jupyter.widget-view+json": {
       "model_id": "ce28d9da1ac8415388fb98af407b086b",
       "version_major": 2,
       "version_minor": 0
      },
      "text/plain": [
       "HBox(children=(HTML(value=''), FloatProgress(value=0.0, max=5000.0), HTML(value='')))"
      ]
     },
     "metadata": {},
     "output_type": "display_data"
    },
    {
     "name": "stdout",
     "output_type": "stream",
     "text": [
      "HO AGGIORNATO   ITERATION N° 3\n",
      "HO AGGIORNATO   ITERATION N° 4\n",
      "HO AGGIORNATO   ITERATION N° 6\n",
      "HO AGGIORNATO   ITERATION N° 35\n",
      "HO AGGIORNATO   ITERATION N° 44\n",
      "HO AGGIORNATO   ITERATION N° 91\n",
      "HO AGGIORNATO   ITERATION N° 2066\n",
      "\n"
     ]
    }
   ],
   "source": [
    "warnings.filterwarnings(\"ignore\")\n",
    "percentage_flip=20\n",
    "for j in tnrange(ITERATIONS):\n",
    "    index_update = np.random.randint(0, NSTEPS-1,size=int(NSTEPS/100*percentage_flip)) # Select an index for the update.\n",
    "    temp_protocol[[index_update]] = random_protocol[[index_update]]*-1 # Try to update that index.\n",
    "    temp_psi_iniz = psi_iniz\n",
    "    \n",
    "#     print(\"NORMALIZATION BEFORE : \",modulus_squared_inner_product(temp_psi_iniz,temp_psi_iniz))\n",
    "\n",
    "    for i in temp_protocol:  # Evolve the random state according to the protocol\n",
    "        if i<0:\n",
    "            temp_psi_iniz = update_state(vec__H_minus4,val_H_minus4,temp_psi_iniz,Δt)\n",
    "        else:\n",
    "            temp_psi_iniz = update_state(vec__H_plus4,val_H_plus4,temp_psi_iniz,Δt)\n",
    "            \n",
    "#     print(\"NORMALIZATION AFTER : \",modulus_squared_inner_product(temp_psi_iniz,temp_psi_iniz))\n",
    "    \n",
    "    fidelity = modulus_squared_inner_product(psi_target,psi_iniz)\n",
    "    temp_fidelity = modulus_squared_inner_product(psi_target,temp_psi_iniz) # Evaluate the fidelity\n",
    "    if temp_fidelity>fidelity: # Update the change only if better fidelity\n",
    "        psi_iniz = temp_psi_iniz \n",
    "        random_protocol=temp_protocol\n",
    "        fidelity=temp_fidelity\n",
    "        print(\"HO AGGIORNATO  \", \"ITERATION N°\",j )\n",
    "    fidelity_values.append(fidelity)\n",
    "\n",
    "# saved_param_adam = np.array(saved_param_adam).transpose()\n",
    "# np.savetxt('Model_2_lambdas_iterations.txt', saved_param_adam, delimiter = ',',header=\"Each column is the set of the lambda parameters, the first column refers to the first iteration and so forth.\")\n",
    "\n",
    "    "
   ]
  },
  {
   "cell_type": "code",
   "execution_count": 8,
   "metadata": {
    "ExecuteTime": {
     "end_time": "2020-10-20T13:59:37.034473Z",
     "start_time": "2020-10-20T13:59:36.822916Z"
    }
   },
   "outputs": [
    {
     "data": {
      "image/png": "[encoded data removed]",
      "text/plain": [
       "<Figure size 792x360 with 1 Axes>"
      ]
     },
     "metadata": {
      "needs_background": "light"
     },
     "output_type": "display_data"
    }
   ],
   "source": [
    "fig, ax = plt.subplots(figsize=(11,5))\n",
    "ax.plot(np.array(1-np.array(fidelity_values)),color='r')\n",
    "ax.set_title(r\"Variation of INfidelity Each Iteration\", fontsize=18)\n",
    "ax.set_xlabel(\"Iterations\", fontsize=18)\n",
    "ax.set_ylabel(r\" $INfidelity$\", fontsize=18)\n",
    "ax.tick_params(axis='both', which='major', labelsize=14) "
   ]
  }
 ],
 "metadata": {
  "hide_input": false,
  "kernelspec": {
   "display_name": "Python 3",
   "language": "python",
   "name": "python3"
  },
  "language_info": {
   "codemirror_mode": {
    "name": "ipython",
    "version": 3
   },
   "file_extension": ".py",
   "mimetype": "text/x-python",
   "name": "python",
   "nbconvert_exporter": "python",
   "pygments_lexer": "ipython3",
   "version": "3.7.9"
  },
  "toc": {
   "base_numbering": 1,
   "nav_menu": {},
   "number_sections": true,
   "sideBar": true,
   "skip_h1_title": false,
   "title_cell": "Table of Contents",
   "title_sidebar": "Contents",
   "toc_cell": false,
   "toc_position": {},
   "toc_section_display": true,
   "toc_window_display": false
  }
 },
 "nbformat": 4,
 "nbformat_minor": 4
}

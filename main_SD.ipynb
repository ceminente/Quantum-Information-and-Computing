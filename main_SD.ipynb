{
 "cells": [
  {
   "cell_type": "code",
   "execution_count": null,
   "metadata": {
    "ExecuteTime": {
     "end_time": "2020-10-30T21:20:39.992754Z",
     "start_time": "2020-10-30T21:20:38.113320Z"
    }
   },
   "outputs": [],
   "source": [
    "import numpy as np\n",
    "import pandas as pd\n",
    "import matplotlib.pyplot as plt\n",
    "from tqdm import tqdm,tnrange\n",
    "from SD import stochastic_descent\n",
    "from Qmodel import ground_state\n",
    "import os\n",
    "import pandas as pd"
   ]
  },
  {
   "cell_type": "code",
   "execution_count": null,
   "metadata": {
    "ExecuteTime": {
     "end_time": "2020-10-30T21:20:40.005292Z",
     "start_time": "2020-10-30T21:20:39.995316Z"
    }
   },
   "outputs": [],
   "source": [
    "def correlation(matrix,h):\n",
    "    '''\n",
    "    Given a matrix this function computes the correlation quantity Q(T) as in the paper.\n",
    "    Matrix must have dimension (n_protocols,lenght_of_protocol)    \n",
    "    '''\n",
    "    n_row = matrix.shape[0]\n",
    "    n_col = matrix.shape[1] \n",
    "    \n",
    "    mean_hx = np.array([matrix[:,i].mean() for i in range(n_col)]) #mean over all protocols at fixed time\n",
    "    avg_over_h = np.array([np.array([ (matrix[i,j]-mean_hx[j])**2 for i in range(n_row)]).sum()/n_row for j in range(n_col)])\n",
    "    avg_over_Nt = (1/((h*h)*n_col))*(avg_over_h.sum())\n",
    "    return  avg_over_Nt"
   ]
  },
  {
   "cell_type": "code",
   "execution_count": null,
   "metadata": {
    "ExecuteTime": {
     "end_time": "2020-10-30T21:20:42.203244Z",
     "start_time": "2020-10-30T21:20:42.177312Z"
    }
   },
   "outputs": [],
   "source": [
    "#SD parameters\n",
    "L = 1\n",
    "h = 4\n",
    "h_list = [-h,h]\n",
    "nsteps = 100\n",
    "exp_decay = False\n",
    "metropolis = False\n",
    "\n",
    "print(\"-------------PARAMETERS for SD---------------\")\n",
    "print(\"Number of qubits (L):\", L)\n",
    "print(\"Magnetic fields(h):\", h)\n",
    "print(\"Timesteps (n_steps):\", nsteps)\n",
    "print(\"\\n\")\n",
    "print(\"\\n\")\n",
    "\n",
    "\n",
    "#------------PREPARE QSTART E QTARGET\n",
    "qstart = ground_state(L, -2)\n",
    "qtarget = ground_state(L, +2)\n",
    "\n",
    "\n",
    "\n",
    "#-----------PREPARE PARAMETERS FOR PLOTTING\n",
    "times_first_part=np.arange(0.1,1,0.1)\n",
    "times_second_part=np.arange(1,4.1,0.1)\n",
    "times=np.concatenate([times_first_part,times_second_part])\n",
    "iter_for_each_time = 10\n",
    "\n",
    "fidelity_for_txt = []\n",
    "print(\"--------------PARAMETERS for Plotting-------------\")\n",
    "print(\"Timegrid:\", times)\n",
    "print(\"Repetition at each timestep:\", iter_for_each_time)\n",
    "print(\"\\n\")"
   ]
  },
  {
   "cell_type": "code",
   "execution_count": null,
   "metadata": {
    "ExecuteTime": {
     "end_time": "2020-10-30T15:47:51.044428Z",
     "start_time": "2020-10-30T14:50:26.785424Z"
    },
    "code_folding": [],
    "scrolled": true
   },
   "outputs": [],
   "source": [
    "#UNCOMMENT TO RUN\n",
    "print(\"WARNING! Attenzione a non sovrascrivere\")\n",
    "\n",
    "\n",
    "custom_name_dir = \"test\"\n",
    "os.system(\"mkdir \"+custom_name_dir)\n",
    "os.system(\"mkdir \"+custom_name_dir+\"/protocols\")\n",
    "\n",
    "intermediete_result = True\n",
    "\n",
    "for T in times:\n",
    "    temp_fid = []\n",
    "    best_prot = []\n",
    "    print(\"Running time:\", T)\n",
    "    for iters in tnrange(iter_for_each_time):\n",
    "        best_protocol, fidelity = stochastic_descent(qstart, qtarget, L, T, nsteps, \n",
    "                        field_list = h_list, verbose = True, check_norm = True)\n",
    "\n",
    "        temp_fid.append(fidelity[-1]) \n",
    "        best_prot.append(best_protocol) \n",
    "        \n",
    "    fidelity_for_txt.append(temp_fid) \n",
    "    best_prot = np.array([best_prot])\n",
    "    with open(custom_name_dir +'/protocols/testT'+str(round(T, 2))+'.npy', 'wb') as f:\n",
    "        np.save(f,best_prot)\n",
    "    f.close()\n",
    "    \n",
    "    if intermediete_result and T !=0: \n",
    "        data = np.load(custom_name_dir +'/protocols/testT'+str(round(T, 3))+'.npy')[0,:,:] #first dimension is redundant '''\n",
    "        print(\"Mean fidelity:\", np.array(temp_fid).mean())\n",
    "        print(\"Q value is:\", correlation(data, h))\n",
    "        print(\"\\n\")\n",
    "        \n",
    "#fidelity values are saved at the end\n",
    "np.savetxt(custom_name_dir + '/fidelity_SD.txt', fidelity_for_txt, delimiter = ',',header=\"Matrix with as entries the values of fidelity dimension times x iterations\")\n"
   ]
  },
  {
   "cell_type": "code",
   "execution_count": null,
   "metadata": {
    "ExecuteTime": {
     "end_time": "2020-10-30T15:56:36.470231Z",
     "start_time": "2020-10-30T15:56:35.765197Z"
    }
   },
   "outputs": [],
   "source": [
    "#PLOT \n",
    "#os.chdir(\"C:\\Users\\GUIDA\\Desktop\\CODE_MONTANGERO\\SD_WITH_REPLACEMENT\")\n",
    "q=[]\n",
    "for T in times[1:]:\n",
    "    data = np.load(custom_name_dir +\"/protocols/testT\"+str(round(T, 2))+\".npy\")[0,:,:] #first dimension is redundant \n",
    "    q.append(correlation(data,h))\n",
    "    \n",
    "loaded_fidelity = pd.read_csv(custom_name_dir +'/fidelity_SD.txt', skiprows=1,header=None)\n",
    "\n",
    "fig, ax = plt.subplots(figsize=(10,7))\n",
    "#plot Fidelity values\n",
    "ax.errorbar(times,loaded_fidelity.mean(axis=1).values, yerr=loaded_fidelity.std(axis=1).values, color=\"r\")\n",
    "ax.scatter(times,loaded_fidelity.mean(axis=1).values,color='r',label=\"Fidelity\")\n",
    "#plot Q values\n",
    "ax.plot(times[1:], q, marker=\"o\", color=\"goldenrod\", markersize=7, label=\"q(T)\")\n",
    "ax.vlines(0.5,-0.05,1.05, color=\"b\", linestyle=\"-.\")\n",
    "ax.vlines(2.4,-0.05,1.05, color=\"b\", linestyle=\"-.\")\n",
    "ax.set_ylim(-0.05,1.05)\n",
    "ax.set_title(r\"Phase Diagram\"+\"\\n\"+\"Iterations for Each Point = \"+str(iter_for_each_time), fontsize=18)\n",
    "ax.set_xlabel(\"T [a.u.]\", fontsize=18)\n",
    "ax.tick_params(axis='both', which='major', labelsize=14)\n",
    "ax.legend(fontsize=13, loc=5)\n",
    "ax.grid()\n",
    "fig.tight_layout()\n",
    "fig.savefig(\"phase_diagram_L=\"+str(L)+\".pdf\")\n",
    "plt.show()"
   ]
  },
  {
   "cell_type": "code",
   "execution_count": null,
   "metadata": {},
   "outputs": [],
   "source": []
  },
  {
   "cell_type": "code",
   "execution_count": null,
   "metadata": {},
   "outputs": [],
   "source": []
  }
 ],
 "metadata": {
  "kernelspec": {
   "display_name": "Python 3",
   "language": "python",
   "name": "python3"
  },
  "language_info": {
   "codemirror_mode": {
    "name": "ipython",
    "version": 3
   },
   "file_extension": ".py",
   "mimetype": "text/x-python",
   "name": "python",
   "nbconvert_exporter": "python",
   "pygments_lexer": "ipython3",
   "version": "3.7.9"
  },
  "latex_envs": {
   "LaTeX_envs_menu_present": true,
   "autoclose": false,
   "autocomplete": true,
   "bibliofile": "biblio.bib",
   "cite_by": "apalike",
   "current_citInitial": 1,
   "eqLabelWithNumbers": true,
   "eqNumInitial": 1,
   "hotkeys": {
    "equation": "Ctrl-E",
    "itemize": "Ctrl-I"
   },
   "labels_anchors": false,
   "latex_user_defs": false,
   "report_style_numbering": false,
   "user_envs_cfg": false
  },
  "toc": {
   "base_numbering": 1,
   "nav_menu": {},
   "number_sections": true,
   "sideBar": true,
   "skip_h1_title": false,
   "title_cell": "Table of Contents",
   "title_sidebar": "Contents",
   "toc_cell": false,
   "toc_position": {},
   "toc_section_display": true,
   "toc_window_display": false
  }
 },
 "nbformat": 4,
 "nbformat_minor": 2
}

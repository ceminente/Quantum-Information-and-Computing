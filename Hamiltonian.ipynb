{
 "cells": [
  {
   "cell_type": "code",
   "execution_count": 2,
   "metadata": {
    "ExecuteTime": {
     "end_time": "2020-10-19T12:42:14.474421Z",
     "start_time": "2020-10-19T12:42:12.308385Z"
    }
   },
   "outputs": [],
   "source": [
    "import numpy as np\n",
    "import warnings\n",
    "from quspin.operators import hamiltonian\n",
    "from quspin.basis import spin_basis_1d\n",
    "warnings.filterwarnings(\"ignore\", category=FutureWarning)"
   ]
  },
  {
   "cell_type": "markdown",
   "metadata": {},
   "source": [
    "[Libreria di riferimento](http://weinbe58.github.io/QuSpin/generated/quspin.basis.spin_basis_1d.html)\n",
    "\n",
    "We want to write a chain of L coupled qubits:\n",
    "$$H[h_x(t)] = - \\sum_{j=1}^L(JS^z_{j+1}S^z_j+gS^z_j+h_x(t)S^x_j)$$\n",
    "as in the article we set g=1. \n",
    "\n",
    "In the particoular case of single qubit we remove the first term J=0: \n",
    "\n",
    "$$H[h_x(t)] = - S^z_j - h_x(t)S^x_j$$"
   ]
  },
  {
   "cell_type": "code",
   "execution_count": 3,
   "metadata": {
    "ExecuteTime": {
     "end_time": "2020-10-19T12:42:14.867387Z",
     "start_time": "2020-10-19T12:42:14.476339Z"
    },
    "scrolled": false
   },
   "outputs": [
    {
     "name": "stdout",
     "output_type": "stream",
     "text": [
      "Hermiticity check passed!\n",
      "Symmetry checks passed!\n",
      "\n",
      "\n",
      "-------------------------------> Hamiltonian <-------------------------------\n",
      "\n",
      "[[ 2.25       -3.46410162  0.          0.        ]\n",
      " [-3.46410162  0.25       -4.          0.        ]\n",
      " [ 0.         -4.         -0.75       -3.46410162]\n",
      " [ 0.          0.         -3.46410162 -0.75      ]]\n",
      "\n",
      "------------------------------------------------------------------------------\n",
      "\n",
      "\n",
      "---------------------> Eigenvalues, Eigenvectors (in columns)<-------------------------------\n",
      "\n",
      "(array([-6.16876758, -1.61785763,  2.52563332,  6.26099189]), array([[ 0.22432566, -0.48462587,  0.64105626,  0.55123736],\n",
      "       [ 0.54517616, -0.54111111, -0.05100788, -0.63826321],\n",
      "       [ 0.68056804,  0.16701869, -0.5261522 ,  0.48176318],\n",
      "       [ 0.43507252,  0.6666643 ,  0.55642513, -0.23803716]]))\n",
      "\n",
      "------------------------------------------------------------------------------\n"
     ]
    },
    {
     "data": {
      "text/plain": [
       "<quspin.operators.hamiltonian:\n",
       "static mat: <4x4 sparse matrix of type '<class 'numpy.float64'>'\n",
       "\twith 4 stored elements (1 diagonals) in DIAgonal format>\n",
       "dynamic:\n",
       " 0) func: operator, mat: <4x4 sparse matrix of type '<class 'numpy.float64'>'\n",
       "\twith 6 stored elements in Compressed Sparse Row format> >"
      ]
     },
     "execution_count": 3,
     "metadata": {},
     "output_type": "execute_result"
    }
   ],
   "source": [
    "def hamiltonian0(L=1,J=1.0,g=1.0,hz=1.0, hx_min=-4., hx_max =4.,Δh=1,n_step=4): \n",
    "    if L < 2:\n",
    "        J=0\n",
    "    else:\n",
    "        J=J\n",
    "#     if L>1: \n",
    "    # Nel caso di una chain si fa riferimento a symmetries rappresentate da parametri block, capisci meglio.\n",
    "    basis = spin_basis_1d(L=L,pauli=0,kblock=0,pblock=1) \n",
    "    # Voglio usare il il metodo hamiltoniana, come primo argomento gli serve \n",
    "    \n",
    "    x_field=[[g,i] for i in range(L)]\n",
    "    z_field=[[hz,i] for i in range(L)]\n",
    "#     hx_discrete = np.arange(start=hx_min, stop=hx_max, step=Δh)\n",
    "    # la parte dinamica dell' hamiltoniana nella funzione richiede una lista con\n",
    "    # [[\"asse\",coefficiente,funzione dipendente da t,parametri funzione dipendente da t]]\n",
    "    J_nn=[[J,i,(i+1)%L] for i in range(L)] # Periodic Boundary Condition\n",
    "    static=[[\"zz\",J_nn],[\"z\",z_field]]\n",
    "    \n",
    "    h_values =np.arange(hx_min,hx_max,Δh) # discrete set of possible h fields \n",
    "    \n",
    "    def operator(time):\n",
    "        return h_values[hx_discrete[int(time)]]\n",
    "    \n",
    "    hx_discrete = np.zeros(n_step, dtype=int) # hx_discrete are protocols specified as integers\n",
    "    \n",
    "    \n",
    "#     fct = lambda time: h_set[hx_discrete[int(time)]]\n",
    "    # If the operator is time-INdependent, one must pass an empty list: dynamic_list = [].\n",
    "    dynamic=[[\"x\",x_field,operator,[]]]\n",
    "    H=hamiltonian(static,dynamic,static_fmt=\"dia\",dtype=np.float64,basis=basis)\n",
    "    print(\"\\n\\n-------------------------------> Hamiltonian <-------------------------------\")\n",
    "    print(\"\")\n",
    "    print(H.toarray())\n",
    "    print(\"\")\n",
    "    print(\"------------------------------------------------------------------------------\")\n",
    "\n",
    "    print(\"\\n\\n---------------------> Eigenvalues, Eigenvectors (in columns)<-------------------------------\")\n",
    "    print(\"\")\n",
    "    print(H.eigh())\n",
    "    print(\"\")\n",
    "    print(\"------------------------------------------------------------------------------\")\n",
    "    return H\n",
    "hamiltonian0(L=3)"
   ]
  }
 ],
 "metadata": {
  "hide_input": false,
  "kernelspec": {
   "display_name": "Python 3",
   "language": "python",
   "name": "python3"
  },
  "language_info": {
   "codemirror_mode": {
    "name": "ipython",
    "version": 3
   },
   "file_extension": ".py",
   "mimetype": "text/x-python",
   "name": "python",
   "nbconvert_exporter": "python",
   "pygments_lexer": "ipython3",
   "version": "3.7.9"
  },
  "toc": {
   "base_numbering": 1,
   "nav_menu": {},
   "number_sections": true,
   "sideBar": true,
   "skip_h1_title": false,
   "title_cell": "Table of Contents",
   "title_sidebar": "Contents",
   "toc_cell": false,
   "toc_position": {},
   "toc_section_display": true,
   "toc_window_display": false
  }
 },
 "nbformat": 4,
 "nbformat_minor": 4
}
